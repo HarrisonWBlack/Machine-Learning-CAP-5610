{
  "nbformat": 4,
  "nbformat_minor": 0,
  "metadata": {
    "colab": {
      "name": "Problem1_colab.ipynb",
      "version": "0.3.2",
      "provenance": [],
      "include_colab_link": true
    },
    "kernelspec": {
      "name": "python3",
      "display_name": "Python 3"
    }
  },
  "cells": [
    {
      "cell_type": "markdown",
      "metadata": {
        "id": "view-in-github",
        "colab_type": "text"
      },
      "source": [
        "<a href=\"https://colab.research.google.com/github/HarrisonWBlack/Machine-Learning-CAP-5610/blob/master/Assignment%201/Problem1_colab.ipynb\" target=\"_parent\"><img src=\"https://colab.research.google.com/assets/colab-badge.svg\" alt=\"Open In Colab\"/></a>"
      ]
    },
    {
      "metadata": {
        "id": "uAMvB2e4fS3n",
        "colab_type": "text"
      },
      "cell_type": "markdown",
      "source": [
        "**Problem 1: Use logistic regression with mean squared error loss.**"
      ]
    },
    {
      "metadata": {
        "id": "7gZp3iodfhtM",
        "colab_type": "text"
      },
      "cell_type": "markdown",
      "source": [
        "Load in the training and test images"
      ]
    },
    {
      "metadata": {
        "id": "_Dn6XHDvdBNn",
        "colab_type": "code",
        "colab": {}
      },
      "cell_type": "code",
      "source": [
        "# Problem 1\n",
        "# Use logistic regression with mean squared error loss\n",
        "\n",
        "import tensorflow as tf\n",
        "import numpy as np\n",
        "import matplotlib.pyplot as plt\n",
        "from keras.utils import to_categorical\n",
        "\n",
        "# Load data set. 60000 training images, 10000 testing images\n",
        "mnist = tf.keras.datasets.mnist\n",
        "(training_imgs, training_labels), (test_imgs_og, test_labels) = mnist.load_data()\n",
        "\n",
        "number_of_imgs, num_rows, num_columns = training_imgs.shape\n",
        "\n",
        "# Reshape data set to vectors\n",
        "training_imgs = (training_imgs.reshape(number_of_imgs, num_rows * num_columns, 1)).astype('float32') / 255\n",
        "test_imgs = (test_imgs_og.reshape(len(test_imgs_og), num_rows * num_columns)).astype('float32') / 255\n",
        "\n",
        "# Seed random number\n",
        "np.random.seed()"
      ],
      "execution_count": 0,
      "outputs": []
    },
    {
      "metadata": {
        "id": "ZN1U9tL5flC_",
        "colab_type": "text"
      },
      "cell_type": "markdown",
      "source": [
        "Function and class definitions"
      ]
    },
    {
      "metadata": {
        "id": "Ij0Rgzg9d7YU",
        "colab_type": "code",
        "colab": {}
      },
      "cell_type": "code",
      "source": [
        "# Sigma Function\n",
        "def sig_func(z):\n",
        "  s = 1.0 / (1.0 + np.exp(-z))\n",
        "  return s\n",
        "\n",
        "# Calculate Sigma Prime\n",
        "def sig_prime(z):\n",
        "  sig_prime = sig_func(z) * (1 - sig_func(z))\n",
        "  return sig_prime\n",
        "\n",
        "# Calculate Squared Error Loss\n",
        "def squared_error(a, y):\n",
        "  return 0.5 * (a - y) ** 2\n",
        "\n",
        "# Image Classifier class\n",
        "class ImageClassifier:\n",
        "  def __init__(self, number):\n",
        "    self.number = number\n",
        "    self.weight = np.random.randn(num_rows * num_columns, 1)\n",
        "    self.bias = 0\n",
        "    self.loss = 0\n",
        "  \n",
        "  def model_training(self):\n",
        "    \n",
        "    learning_rate = 0.024\n",
        "\n",
        "    for i in range(number_of_imgs):\n",
        "      x = training_imgs[i]\n",
        "      y = 0\n",
        "      \n",
        "      if training_labels[i] == self.number:\n",
        "        y = 1\n",
        "\n",
        "      z = self.weight.T.dot(x) + self.bias\n",
        "      a = sig_func(z)\n",
        "      self.loss = squared_error(a, y)\n",
        "      prime_a = sig_prime(a)\n",
        "      \n",
        "      self.weight -= learning_rate * (a - y) * prime_a * x\n",
        "      self.bias -= (a - y) * prime_a * learning_rate\n",
        "      \n",
        "  def prediction(self, x):\n",
        "    prediction = sig_func(self.weight.T.dot(x) + self.bias)\n",
        "    return prediction\n"
      ],
      "execution_count": 0,
      "outputs": []
    },
    {
      "metadata": {
        "id": "1VSx31aHfs1h",
        "colab_type": "text"
      },
      "cell_type": "markdown",
      "source": [
        "Create and traing each classifier, 0-9."
      ]
    },
    {
      "metadata": {
        "id": "8nTDkPvPeEdP",
        "colab_type": "code",
        "colab": {}
      },
      "cell_type": "code",
      "source": [
        "# Create and train each classifier\n",
        "models = []\n",
        "for digit in range(10):\n",
        "  models.append(ImageClassifier(digit))\n",
        "  models[digit].model_training()"
      ],
      "execution_count": 0,
      "outputs": []
    },
    {
      "metadata": {
        "id": "Ws0lNEEBfzCG",
        "colab_type": "text"
      },
      "cell_type": "markdown",
      "source": [
        "Test the model on the training imgs to determine it's accuracy. Show an example prediction."
      ]
    },
    {
      "metadata": {
        "id": "0fG3QNkzeQ5s",
        "colab_type": "code",
        "outputId": "2a43e65c-65e0-4e8c-9532-4d6b26968959",
        "colab": {
          "base_uri": "https://localhost:8080/",
          "height": 619
        }
      },
      "cell_type": "code",
      "source": [
        "# Test accuracy on test images\n",
        "predictions = []\n",
        "answer = 0\n",
        "num_right = 0\n",
        "\n",
        "for i in range ( len(test_imgs) ):\n",
        "  for j in range(len(models)):\n",
        "     predictions.append(models[j].prediction(test_imgs[i]))\n",
        "      \n",
        "  answer = np.argmax(predictions)\n",
        "  predictions.clear()\n",
        "  \n",
        "  if(answer == test_labels[i]):\n",
        "    num_right += 1    \n",
        "\n",
        "# Example predictions\n",
        "print(\"Example prediction: \")\n",
        "test_index = np.random.randint(0, len(test_imgs), size=None)\n",
        "example_predictions = []\n",
        "\n",
        "for k in range(len(models)):\n",
        "  example_predictions.append(models[k].prediction(test_imgs[test_index]))\n",
        "      \n",
        "example_answer = np.argmax(example_predictions)\n",
        "\n",
        "plt.imshow(test_imgs_og[test_index])\n",
        "plt.show()\n",
        "\n",
        "print(\"Actual number: \", test_labels[test_index])\n",
        "print(\"Predicted number: \", example_answer)\n",
        "\n",
        "print()\n",
        "for i in range(10):\n",
        "  print(\"Model \", i, \" loss value: \", models[i].loss )\n",
        "\n",
        "print(\"\\nOverall accuracy across all models: \", round(num_right/len(test_imgs) * 100, 2), \"%\")\n"
      ],
      "execution_count": 46,
      "outputs": [
        {
          "output_type": "stream",
          "text": [
            "Example prediction: \n"
          ],
          "name": "stdout"
        },
        {
          "output_type": "display_data",
          "data": {
            "image/png": "[encoded data removed]",
            "text/plain": [
              "<Figure size 576x396 with 1 Axes>"
            ]
          },
          "metadata": {
            "tags": []
          }
        },
        {
          "output_type": "stream",
          "text": [
            "Actual number:  1\n",
            "Predicted number:  1\n",
            "\n",
            "Model  0  loss value:  [[0.0117097]]\n",
            "Model  1  loss value:  [[2.69247358e-15]]\n",
            "Model  2  loss value:  [[2.20704494e-10]]\n",
            "Model  3  loss value:  [[4.32786107e-12]]\n",
            "Model  4  loss value:  [[4.28963144e-18]]\n",
            "Model  5  loss value:  [[5.72450575e-05]]\n",
            "Model  6  loss value:  [[1.83662924e-14]]\n",
            "Model  7  loss value:  [[3.86130462e-07]]\n",
            "Model  8  loss value:  [[0.00040079]]\n",
            "Model  9  loss value:  [[0.00295697]]\n",
            "\n",
            "Overall accuracy across all models:  87.26 %\n"
          ],
          "name": "stdout"
        }
      ]
    }
  ]
}