{
  "nbformat": 4,
  "nbformat_minor": 0,
  "metadata": {
    "colab": {
      "name": "problem5_colab.ipynb",
      "version": "0.3.2",
      "provenance": []
    },
    "kernelspec": {
      "name": "python3",
      "display_name": "Python 3"
    }
  },
  "cells": [
    {
      "metadata": {
        "id": "ZS0GFZDrb3bD",
        "colab_type": "text"
      },
      "cell_type": "markdown",
      "source": [
        "Problem 5:\n",
        "Adding additional features to problem number 4"
      ]
    },
    {
      "metadata": {
        "id": "p36G7DhGcDkY",
        "colab_type": "text"
      },
      "cell_type": "markdown",
      "source": [
        "Load in the training and test images."
      ]
    },
    {
      "metadata": {
        "id": "cC6_XNBLd5_C",
        "colab_type": "code",
        "colab": {}
      },
      "cell_type": "code",
      "source": [
        "# Harrison Black\n",
        "# HA435377\n",
        "# CAP 5610\n",
        "# UCF Spring 2019\n",
        "\n",
        "# Problem 5\n",
        "# Add features to problem 4\n",
        "\n",
        "import tensorflow as tf\n",
        "from keras.utils import to_categorical\n",
        "import numpy as np\n",
        "import matplotlib.pyplot as plt\n",
        "from keras import models\n",
        "\n",
        "mnist = tf.keras.datasets.mnist\n",
        "(training_imgs, training_labels), (test_imgs_og, test_labels) = mnist.load_data()\n",
        "number_of_imgs, num_rows, num_columns = training_imgs.shape\n",
        "\n",
        "training_imgs = (training_imgs.reshape(number_of_imgs, num_rows * num_columns, 1)).astype('float32') / 255\n",
        "test_imgs = (test_imgs_og.reshape(len(test_imgs_og), num_rows * num_columns, 1)).astype('float32') / 255"
      ],
      "execution_count": 0,
      "outputs": []
    },
    {
      "metadata": {
        "id": "qV2UzmNicG8L",
        "colab_type": "text"
      },
      "cell_type": "markdown",
      "source": [
        "Functions for finding features and concatenating them to the end of the image array.\n",
        "Finds number of white regions for a digit, the digit width, and the digit height."
      ]
    },
    {
      "metadata": {
        "id": "Pqp4Ep7AbZGb",
        "colab_type": "code",
        "colab": {
          "base_uri": "https://localhost:8080/",
          "height": 34
        },
        "outputId": "a1488122-af8b-4f9d-ad00-1161808c1e86"
      },
      "cell_type": "code",
      "source": [
        "# Find the number of unique regions, the width, and the height of a given digit\n",
        "def get_features(img):\n",
        "  \n",
        "  # Empty list to store features\n",
        "  features = []\n",
        "  \n",
        "  # Round all grey values\n",
        "  img = np.around(img)\n",
        "  \n",
        "  # Value of previous pixel\n",
        "  prev_pixel = 0\n",
        "  \n",
        "  # Current region\n",
        "  region_number = 1\n",
        "  \n",
        "  # Zeros in the region array signify black pixels once comleted\n",
        "  region_array = np.full_like(img, 0)\n",
        "  \n",
        "  # Values to help determine the width of a digit\n",
        "  first_in_row = True\n",
        "  first_black_pixel_in_row = 0\n",
        "  last_black_pixel_in_row = 0\n",
        "  longest_range = 0\n",
        "  \n",
        "  # Values to help determine height\n",
        "  top_pixel = 0\n",
        "  bottom_pixel = 0\n",
        "  found_first = False\n",
        "  \n",
        "  # NOTE: Below both the unique number of regions,the width and the height are found in the same loop\n",
        "  #       This helps to speed up run time\n",
        "  \n",
        "  # Go through each pixel\n",
        "  for pixel in range(len(img)):\n",
        "    \n",
        "    # Labeling regions at start of loop\n",
        "    \n",
        "    # Only count on white pixels\n",
        "    if img[pixel] == 0:\n",
        "      region_array[pixel] = region_number\n",
        "      \n",
        "    # If pixel goes from white to black, region_number += 1\n",
        "    elif img[pixel] == 1 and prev_pixel == 0:\n",
        "      region_number += 1\n",
        "\n",
        "    # Set prev pixel to current pixel and loop\n",
        "    prev_pixel = img[pixel]\n",
        "    \n",
        "    # Determining width and height for the rest of the loop\n",
        "    # To account for width, keep track of the first black pixel in a row and the last black pixel in a row. The longest span is the width.\n",
        "    # To account for height, go through the array and mark the first an last black pixel\n",
        "    \n",
        "    # If we are in a new row\n",
        "    if pixel % 28 == 0:\n",
        "    \n",
        "      # Determine if the previous row had a larger width than the current largest width\n",
        "      if last_black_pixel_in_row - first_black_pixel_in_row > longest_range:\n",
        "        longest_range = last_black_pixel_in_row - first_black_pixel_in_row\n",
        "\n",
        "      # Reset for new row\n",
        "      first_black_pixel_in_row = 0\n",
        "      last_black_pixel_in_row = 0\n",
        "      first_in_row = True\n",
        "    \n",
        "    # If we found the first black pixel\n",
        "    if img[pixel] == 1 and first_in_row:\n",
        "      first_black_pixel_in_row = pixel % 28\n",
        "      first_in_row = False\n",
        "\n",
        "    # If a black pixel\n",
        "    if img[pixel] == 1:\n",
        "      last_black_pixel_in_row = pixel % 28\n",
        "      bottom_pixel = pixel\n",
        "      \n",
        "    if img[pixel] == 1 and not found_first:\n",
        "      top_pixel = pixel\n",
        "      found_first = True\n",
        "\n",
        "  # Finish determining unique regions\n",
        "  # Loop through again to join touching regions\n",
        "  for pixel in range(len(img)):\n",
        "    \n",
        "    # Don't go out of bounds\n",
        "    if(pixel + 28 < len(img)):\n",
        "      \n",
        "      # Each row is 28 long. If you skip ahead 28 pixels you are looking at the next row \n",
        "      # If two non white pixels in different rows are touching, they are in the same region\n",
        "      if(region_array[pixel] != region_array[pixel + 28] and region_array[pixel] != 0 and region_array[pixel + 28] != 0):\n",
        "        region_array[region_array == region_array[pixel + 28]] = region_array[pixel]\n",
        "        \n",
        "  midline = num_columns // 2\n",
        "\n",
        "  # Return the number of unique values in the region_array excluding the value for black pixels (0)#   print(np.unique(region_array) ) \n",
        "  number_of_regions = len(np.unique(region_array)) - 1\n",
        "  \n",
        "  # The width is the longest range of black pixels found\n",
        "  width = longest_range\n",
        "  \n",
        "  # The height is the distance between the first black pixel found and the last black pixel found minus their distance to the midline of the picture\n",
        "  height = ((bottom_pixel - top_pixel) - abs(midline - (top_pixel % 28)) - abs(midline - (bottom_pixel % 28))) / 28\n",
        "  \n",
        "  features.append(number_of_regions)\n",
        "  features.append(width)\n",
        "  features.append(height)\n",
        "\n",
        "  return features\n",
        "\n",
        "# Append the addition features to the end of each image\n",
        "def append_features(imgs):\n",
        "  appended_imgs = []\n",
        "  for i in range(len(imgs)):\n",
        "    features = np.array(get_features(imgs[i]))\n",
        "    features = features.reshape(features.size, 1)\n",
        "    appended_imgs.append(np.concatenate([imgs[i], features]))\n",
        "  return appended_imgs\n",
        "\n",
        "appended_training_imgs = append_features(training_imgs)\n",
        "appended_test_imgs = append_features(test_imgs)\n",
        "print(\"Appending completed\")"
      ],
      "execution_count": 7,
      "outputs": [
        {
          "output_type": "stream",
          "text": [
            "Appending completed\n"
          ],
          "name": "stdout"
        }
      ]
    },
    {
      "metadata": {
        "id": "4RfHRluimXyg",
        "colab_type": "text"
      },
      "cell_type": "markdown",
      "source": [
        "Train the model using Keras and determine and display it's overall loss and accuracy."
      ]
    },
    {
      "metadata": {
        "id": "dblwzPukmOHc",
        "colab_type": "code",
        "colab": {
          "base_uri": "https://localhost:8080/",
          "height": 204
        },
        "outputId": "7d471465-304e-4483-cd00-bbd3aa0ac5a0"
      },
      "cell_type": "code",
      "source": [
        "# Train the model using Keras\n",
        "model = tf.keras.models.Sequential()\n",
        "model.add(tf.keras.layers.Flatten())\n",
        "model.add(tf.keras.layers.Dense(10, activation=tf.nn.softmax))\n",
        "model.compile(optimizer='sgd', loss='sparse_categorical_crossentropy', metrics=['accuracy'])\n",
        "model.fit(np.array(appended_training_imgs), training_labels, epochs=3)\n",
        "loss_value, accuracy_value = model.evaluate(np.array(appended_test_imgs), test_labels)\n",
        "\n",
        "print(\"\\nOverall model performance\")\n",
        "print(\"Loss value: \", loss_value, \"\\nModel accuracy: \", accuracy_value)"
      ],
      "execution_count": 20,
      "outputs": [
        {
          "output_type": "stream",
          "text": [
            "Epoch 1/3\n",
            "60000/60000 [==============================] - 3s 44us/sample - loss: 0.6827 - acc: 0.8292\n",
            "Epoch 2/3\n",
            "60000/60000 [==============================] - 3s 42us/sample - loss: 0.3777 - acc: 0.9022\n",
            "Epoch 3/3\n",
            "60000/60000 [==============================] - 2s 41us/sample - loss: 0.3285 - acc: 0.9105\n",
            "10000/10000 [==============================] - 0s 31us/sample - loss: 0.2946 - acc: 0.9204\n",
            "\n",
            "Overall model performance\n",
            "Loss value:  0.29463275770545005 \n",
            "Model accuracy:  0.9204\n"
          ],
          "name": "stdout"
        }
      ]
    },
    {
      "metadata": {
        "id": "J6OWuibdchLJ",
        "colab_type": "text"
      },
      "cell_type": "markdown",
      "source": [
        "Show an example prediction and display feature data."
      ]
    },
    {
      "metadata": {
        "id": "FlMKugPebqZy",
        "colab_type": "code",
        "colab": {
          "base_uri": "https://localhost:8080/",
          "height": 466
        },
        "outputId": "35e2b823-f419-4a74-e90b-4a513e06e7eb"
      },
      "cell_type": "code",
      "source": [
        "# Seed and create random number to test a random image\n",
        "np.random.seed()\n",
        "test_index = np.random.randint(0, len(test_imgs), size=None)\n",
        "\n",
        "print(\"\\nExample prediction: \")\n",
        "plt.imshow(test_imgs_og[test_index], cmap = plt.cm.binary)\n",
        "plt.show()\n",
        "\n",
        "example_digit = np.array(appended_test_imgs[test_index])\n",
        "example_prediction = model.predict([appended_test_imgs])\n",
        "example_features = get_features(appended_test_imgs[test_index])\n",
        "\n",
        "print(\"Actual number: \", test_labels[test_index])\n",
        "print(\"Predicted number: \", np.argmax(example_prediction[test_index]))\n",
        "print(\"Number of white regions: \", example_features[0], \"\\nDigit width: \", example_features[1], \"\\nDigit height: \", example_features[2])\n"
      ],
      "execution_count": 21,
      "outputs": [
        {
          "output_type": "stream",
          "text": [
            "\n",
            "Example prediction: \n"
          ],
          "name": "stdout"
        },
        {
          "output_type": "display_data",
          "data": {
            "image/png": "[encoded data removed]",
            "text/plain": [
              "<Figure size 576x396 with 1 Axes>"
            ]
          },
          "metadata": {
            "tags": []
          }
        },
        {
          "output_type": "stream",
          "text": [
            "Actual number:  7\n",
            "Predicted number:  7\n",
            "Number of white regions:  1 \n",
            "Digit width:  12 \n",
            "Digit height:  21.0\n"
          ],
          "name": "stdout"
        }
      ]
    }
  ]
}