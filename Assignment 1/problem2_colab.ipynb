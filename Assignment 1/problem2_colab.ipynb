{
  "nbformat": 4,
  "nbformat_minor": 0,
  "metadata": {
    "colab": {
      "name": "problem2_colab.ipynb",
      "version": "0.3.2",
      "provenance": [],
      "collapsed_sections": [],
      "include_colab_link": true
    },
    "kernelspec": {
      "name": "python3",
      "display_name": "Python 3"
    }
  },
  "cells": [
    {
      "cell_type": "markdown",
      "metadata": {
        "id": "view-in-github",
        "colab_type": "text"
      },
      "source": [
        "<a href=\"https://colab.research.google.com/github/HarrisonWBlack/Machine-Learning-CAP-5610/blob/master/Assignment%201/problem2_colab.ipynb\" target=\"_parent\"><img src=\"https://colab.research.google.com/assets/colab-badge.svg\" alt=\"Open In Colab\"/></a>"
      ]
    },
    {
      "metadata": {
        "id": "Kjmj3fyLighq",
        "colab_type": "text"
      },
      "cell_type": "markdown",
      "source": [
        "**Problem 2: Use logistic regression with binary cross entropy loss.**"
      ]
    },
    {
      "metadata": {
        "id": "XwOk6aa3ilLn",
        "colab_type": "text"
      },
      "cell_type": "markdown",
      "source": [
        "Load in the training and test images"
      ]
    },
    {
      "metadata": {
        "id": "uZPQeZ_M0UQ0",
        "colab_type": "code",
        "colab": {}
      },
      "cell_type": "code",
      "source": [
        "# Harrison Black\n",
        "# HA435377\n",
        "# CAP 5610\n",
        "# UCF Spring 2019\n",
        "\n",
        "# Problem 2\n",
        "# Use logistic regression with binary cross entropy loss\n",
        "\n",
        "import tensorflow as tf\n",
        "import numpy as np\n",
        "import matplotlib.pyplot as plt\n",
        "\n",
        "# Load data set. 60000 training images, 10000 testing images\n",
        "mnist = tf.keras.datasets.mnist\n",
        "(training_imgs, training_labels), (test_imgs_og, test_labels) = mnist.load_data()\n",
        "\n",
        "number_of_imgs, num_rows, num_columns = training_imgs.shape\n",
        "\n",
        "# Reshape data set to vectors\n",
        "training_imgs = (training_imgs.reshape(number_of_imgs, num_rows * num_columns, 1)).astype('float32') / 255\n",
        "test_imgs = (test_imgs_og.reshape(len(test_imgs_og), num_rows * num_columns)).astype('float32') / 255\n",
        "\n",
        "# Seed random number\n",
        "np.random.seed()"
      ],
      "execution_count": 0,
      "outputs": []
    },
    {
      "metadata": {
        "id": "bBQm5dGbitel",
        "colab_type": "text"
      },
      "cell_type": "markdown",
      "source": [
        "Function and class definitions"
      ]
    },
    {
      "metadata": {
        "id": "vcrXOZzqgXrx",
        "colab_type": "code",
        "colab": {}
      },
      "cell_type": "code",
      "source": [
        "# Sigma Function\n",
        "def sig_func(z):\n",
        "  s = 1.0 / (1.0 + np.exp(-z))\n",
        "  return s\n",
        "\n",
        "# Calculate Binary Cross Entropy Loss\n",
        "def bin_cross_ent(a, y):\n",
        "  ent = (-y * np.log(a)) - ((1 - y) * np.log(1 - a))\n",
        "  #(-1.0 * (y * np.log(a))) - ((1 - y) * np.log(y - a))\n",
        "  return ent\n",
        "\n",
        "# Image Classifier class\n",
        "class ImageClassifier:\n",
        "  def __init__(self, number):\n",
        "    self.number = number\n",
        "    self.weight = np.random.randn(num_rows * num_columns, 1)\n",
        "    self.bias = 0\n",
        "    self.loss = 0\n",
        "  \n",
        "  def model_training(self):\n",
        "    \n",
        "    learning_rate = 0.005\n",
        "\n",
        "    for i in range(number_of_imgs):\n",
        "      x = training_imgs[i]\n",
        "      y = 0\n",
        "      \n",
        "      if training_labels[i] == self.number:\n",
        "        y = 1\n",
        "\n",
        "      z = self.weight.T.dot(x) + self.bias\n",
        "      a = sig_func(z)\n",
        "      self.loss = bin_cross_ent(a, y)\n",
        "      \n",
        "      \n",
        "      self.weight -= learning_rate * (a - y) * x\n",
        "      self.bias -= (a - y) * learning_rate\n",
        "      \n",
        "  def prediction(self, x):\n",
        "    prediction = sig_func(self.weight.T.dot(x) + self.bias)\n",
        "    return prediction\n"
      ],
      "execution_count": 0,
      "outputs": []
    },
    {
      "metadata": {
        "id": "AOSmugrshXD2",
        "colab_type": "text"
      },
      "cell_type": "markdown",
      "source": [
        "\n",
        "Create and traing each classifier, 0-9."
      ]
    },
    {
      "metadata": {
        "id": "bCTJnhVdhYdK",
        "colab_type": "code",
        "colab": {}
      },
      "cell_type": "code",
      "source": [
        "# Create and train each classifier\n",
        "models = []\n",
        "for digit in range(10):\n",
        "  models.append(ImageClassifier(digit))\n",
        "  models[digit].model_training()\n"
      ],
      "execution_count": 0,
      "outputs": []
    },
    {
      "metadata": {
        "id": "nd6zEWauheQv",
        "colab_type": "text"
      },
      "cell_type": "markdown",
      "source": [
        "Test the model on the training imgs to determine it's accuracy. Show an example prediction."
      ]
    },
    {
      "metadata": {
        "id": "6Kj-rSmThax2",
        "colab_type": "code",
        "outputId": "d57f27c7-a8a5-40ca-9c57-61ddc5ffbc1e",
        "colab": {
          "base_uri": "https://localhost:8080/",
          "height": 619
        }
      },
      "cell_type": "code",
      "source": [
        "# Test accuracy on test images\n",
        "predictions = []\n",
        "answer = 0\n",
        "num_right = 0\n",
        "\n",
        "for i in range ( len(test_imgs) ):\n",
        "  for j in range(len(models)):\n",
        "     predictions.append(models[j].prediction(test_imgs[i]))\n",
        "      \n",
        "  answer = np.argmax(predictions)\n",
        "  predictions.clear()\n",
        "  \n",
        "  if(answer == test_labels[i]):\n",
        "    num_right += 1    \n",
        "\n",
        "# Example predictions\n",
        "print(\"Example prediction: \")\n",
        "test_index = np.random.randint(0, len(test_imgs), size=None)\n",
        "example_predictions = []\n",
        "\n",
        "for k in range(len(models)):\n",
        "  example_predictions.append(models[k].prediction(test_imgs[test_index]))\n",
        "      \n",
        "example_answer = np.argmax(example_predictions) \n",
        "  \n",
        "plt.imshow(test_imgs_og[test_index])\n",
        "plt.show()\n",
        "\n",
        "print(\"Actual number: \", test_labels[test_index])\n",
        "print(\"Predicted number: \", example_answer)\n",
        "\n",
        "print()\n",
        "for i in range(10):\n",
        "  print(\"Model \", i, \" loss value: \", models[i].loss )\n",
        "\n",
        "print(\"\\nOverall accuracy across all models: \", round(num_right/len(test_imgs) * 100, 2), \"%\")\n"
      ],
      "execution_count": 21,
      "outputs": [
        {
          "output_type": "stream",
          "text": [
            "Example prediction: \n"
          ],
          "name": "stdout"
        },
        {
          "output_type": "display_data",
          "data": {
            "image/png": "[encoded data removed]",
            "text/plain": [
              "<Figure size 576x396 with 1 Axes>"
            ]
          },
          "metadata": {
            "tags": []
          }
        },
        {
          "output_type": "stream",
          "text": [
            "Actual number:  6\n",
            "Predicted number:  6\n",
            "\n",
            "Model  0  loss value:  [[0.00065693]]\n",
            "Model  1  loss value:  [[3.96062661e-09]]\n",
            "Model  2  loss value:  [[7.71080841e-07]]\n",
            "Model  3  loss value:  [[4.57329376e-05]]\n",
            "Model  4  loss value:  [[1.93320725e-05]]\n",
            "Model  5  loss value:  [[0.00019628]]\n",
            "Model  6  loss value:  [[3.86292298e-05]]\n",
            "Model  7  loss value:  [[0.00052725]]\n",
            "Model  8  loss value:  [[0.02811966]]\n",
            "Model  9  loss value:  [[0.52575495]]\n",
            "\n",
            "Overall accuracy across all models:  86.47 %\n"
          ],
          "name": "stdout"
        }
      ]
    }
  ]
}