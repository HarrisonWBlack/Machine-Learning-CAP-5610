{
  "nbformat": 4,
  "nbformat_minor": 0,
  "metadata": {
    "colab": {
      "name": "problem2_colab.ipynb",
      "version": "0.3.2",
      "provenance": [],
      "collapsed_sections": []
    },
    "kernelspec": {
      "name": "python3",
      "display_name": "Python 3"
    }
  },
  "cells": [
    {
      "metadata": {
        "id": "Kjmj3fyLighq",
        "colab_type": "text"
      },
      "cell_type": "markdown",
      "source": [
        "**Problem 2: Use logistic regression with binary cross entropy loss.**"
      ]
    },
    {
      "metadata": {
        "id": "XwOk6aa3ilLn",
        "colab_type": "text"
      },
      "cell_type": "markdown",
      "source": [
        "Load in the training and test images"
      ]
    },
    {
      "metadata": {
        "id": "uZPQeZ_M0UQ0",
        "colab_type": "code",
        "colab": {}
      },
      "cell_type": "code",
      "source": [
        "# Harrison Black\n",
        "# HA435377\n",
        "# CAP 5610\n",
        "# UCF Spring 2019\n",
        "\n",
        "# Problem 2\n",
        "# Use logistic regression with binary cross entropy loss\n",
        "\n",
        "import tensorflow as tf\n",
        "import numpy as np\n",
        "import matplotlib.pyplot as plt\n",
        "\n",
        "# Load data set. 60000 training images, 10000 testing images\n",
        "mnist = tf.keras.datasets.mnist\n",
        "(training_imgs, training_labels), (test_imgs_og, test_labels) = mnist.load_data()\n",
        "\n",
        "number_of_imgs, num_rows, num_columns = training_imgs.shape\n",
        "\n",
        "# Reshape data set to vectors\n",
        "training_imgs = (training_imgs.reshape(number_of_imgs, num_rows * num_columns, 1)).astype('float32') / 255\n",
        "test_imgs = (test_imgs_og.reshape(len(test_imgs_og), num_rows * num_columns)).astype('float32') / 255\n",
        "\n",
        "# Seed random number\n",
        "np.random.seed()"
      ],
      "execution_count": 0,
      "outputs": []
    },
    {
      "metadata": {
        "id": "bBQm5dGbitel",
        "colab_type": "text"
      },
      "cell_type": "markdown",
      "source": [
        "Function and class definitions"
      ]
    },
    {
      "metadata": {
        "id": "vcrXOZzqgXrx",
        "colab_type": "code",
        "colab": {}
      },
      "cell_type": "code",
      "source": [
        "# Sigma Function\n",
        "def sig_func(z):\n",
        "  s = 1.0 / (1.0 + np.exp(-z))\n",
        "  return s\n",
        "\n",
        "# Calculate Sigma Prime\n",
        "def sig_prime(z):\n",
        "  sig_prime = sig_func(z) * (1 - sig_func(z))\n",
        "  return sig_prime\n",
        "\n",
        "# Calculate Binary Cross Entropy Loss\n",
        "def bin_cross_ent(a, y):\n",
        "  ent = (-1.0 * (y * np.log(a))) - ((1 - y) * np.log(y - a))\n",
        "  return ent\n",
        "\n",
        "\n",
        "# Image Classifier class\n",
        "class ImageClassifier:\n",
        "  def __init__(self, number):\n",
        "    self.number = number\n",
        "    self.weight = np.random.randn(num_rows * num_columns, 1)\n",
        "    self.bias = 0\n",
        "  \n",
        "  def model_training(self):\n",
        "    \n",
        "#     0.01 = 83.29 \n",
        "#     0.005 = 0.8449\n",
        "    learning_rate = 0.005\n",
        "\n",
        "    for i in range(number_of_imgs):\n",
        "      x = training_imgs[i]\n",
        "      y = 0\n",
        "      \n",
        "      if training_labels[i] == self.number:\n",
        "        y = 1\n",
        "\n",
        "      z = self.weight.T.dot(x) + self.bias\n",
        "      a = sig_func(z)\n",
        "      loss = bin_cross_ent(a, y)\n",
        "      prime_a = sig_prime(a)\n",
        "      \n",
        "      self.weight -= learning_rate * (a - y) * x\n",
        "      self.bias -= (a - y) * learning_rate\n",
        "      \n",
        "  def prediction(self, x):\n",
        "    prediction = sig_func(self.weight.T.dot(x) + self.bias)\n",
        "    return prediction\n"
      ],
      "execution_count": 0,
      "outputs": []
    },
    {
      "metadata": {
        "id": "AOSmugrshXD2",
        "colab_type": "text"
      },
      "cell_type": "markdown",
      "source": [
        "\n",
        "Create and traing each classifier, 0-9."
      ]
    },
    {
      "metadata": {
        "id": "bCTJnhVdhYdK",
        "colab_type": "code",
        "colab": {
          "base_uri": "https://localhost:8080/",
          "height": 51
        },
        "outputId": "adf38e01-186e-4a0c-f3e4-ab586ef8d212"
      },
      "cell_type": "code",
      "source": [
        "# Create and train each classifier\n",
        "models = []\n",
        "for digit in range(10):\n",
        "  models.append(ImageClassifier(digit))\n",
        "  models[digit].model_training()\n"
      ],
      "execution_count": 3,
      "outputs": [
        {
          "output_type": "stream",
          "text": [
            "/usr/local/lib/python3.6/dist-packages/ipykernel_launcher.py:12: RuntimeWarning: invalid value encountered in log\n",
            "  if sys.path[0] == '':\n"
          ],
          "name": "stderr"
        }
      ]
    },
    {
      "metadata": {
        "id": "nd6zEWauheQv",
        "colab_type": "text"
      },
      "cell_type": "markdown",
      "source": [
        "Test the model on the training imgs to determine it's accuracy. Show an example prediction."
      ]
    },
    {
      "metadata": {
        "id": "6Kj-rSmThax2",
        "colab_type": "code",
        "colab": {
          "base_uri": "https://localhost:8080/",
          "height": 432
        },
        "outputId": "255a8f3c-2754-4295-9d19-4f0bbe6ac7ae"
      },
      "cell_type": "code",
      "source": [
        "# Test accuracy on test images\n",
        "predictions = []\n",
        "answer = 0\n",
        "num_right = 0\n",
        "\n",
        "for i in range ( len(test_imgs) ):\n",
        "  for j in range(len(models)):\n",
        "     predictions.append(models[j].prediction(test_imgs[i]))\n",
        "      \n",
        "  answer = np.argmax(predictions)\n",
        "  predictions.clear()\n",
        "  \n",
        "  if(answer == test_labels[i]):\n",
        "    num_right += 1    \n",
        "\n",
        "# Example predictions\n",
        "print(\"Example prediction: \")\n",
        "test_index = np.random.randint(0, len(test_imgs), size=None)\n",
        "example_predictions = []\n",
        "\n",
        "for k in range(len(models)):\n",
        "  example_predictions.append(models[k].prediction(test_imgs[test_index]))\n",
        "      \n",
        "example_answer = np.argmax(example_predictions) \n",
        "  \n",
        "plt.imshow(test_imgs_og[test_index])\n",
        "plt.show()\n",
        "\n",
        "print(\"Actual number: \", test_labels[test_index])\n",
        "print(\"Predicted number: \", example_answer)\n",
        "\n",
        "# Print accuracy\n",
        "print(\"\\nOverall model accuracy in decimal format: \", num_right/len(test_imgs))"
      ],
      "execution_count": 4,
      "outputs": [
        {
          "output_type": "stream",
          "text": [
            "Example prediction: \n"
          ],
          "name": "stdout"
        },
        {
          "output_type": "display_data",
          "data": {
            "image/png": "[encoded data removed]",
            "text/plain": [
              "<Figure size 576x396 with 1 Axes>"
            ]
          },
          "metadata": {
            "tags": []
          }
        },
        {
          "output_type": "stream",
          "text": [
            "Actual number:  3\n",
            "Predicted number:  3\n",
            "\n",
            "Overall model accuracy in decimal format:  0.8732\n"
          ],
          "name": "stdout"
        }
      ]
    }
  ]
}