{
  "nbformat": 4,
  "nbformat_minor": 0,
  "metadata": {
    "colab": {
      "name": "problem4_colab.ipynb",
      "version": "0.3.2",
      "provenance": [],
      "collapsed_sections": []
    },
    "kernelspec": {
      "name": "python3",
      "display_name": "Python 3"
    }
  },
  "cells": [
    {
      "metadata": {
        "id": "3FweAHnZjTh8",
        "colab_type": "text"
      },
      "cell_type": "markdown",
      "source": [
        "**Problem 4:  Reimplement the network from Problem 3 entirely in Keras.**"
      ]
    },
    {
      "metadata": {
        "id": "AkGeO6U3jTsp",
        "colab_type": "text"
      },
      "cell_type": "markdown",
      "source": [
        "Load in the training and test images"
      ]
    },
    {
      "metadata": {
        "id": "saIP_fZoi8Wl",
        "colab_type": "code",
        "colab": {}
      },
      "cell_type": "code",
      "source": [
        "# Harrison Black\n",
        "# HA435377\n",
        "# CAP 5610\n",
        "# UCF Spring 2019\n",
        "\n",
        "# Problem 4\n",
        "# Reimplement the network from Problem 3 entirely in Keras.\n",
        "\n",
        "import tensorflow as tf\n",
        "import numpy as np\n",
        "import matplotlib.pyplot as plt\n",
        "\n",
        "mnist = tf.keras.datasets.mnist\n",
        "(training_imgs, training_labels), (test_imgs, test_labels) = mnist.load_data()\n",
        "\n",
        "training_imgs = tf.keras.utils.normalize(training_imgs, axis=1)\n",
        "test_imgs = tf.keras.utils.normalize(test_imgs, axis=1)\n"
      ],
      "execution_count": 0,
      "outputs": []
    },
    {
      "metadata": {
        "id": "7a5pEVqhjVYZ",
        "colab_type": "text"
      },
      "cell_type": "markdown",
      "source": [
        "Train model using Keras. Determine and display overall model loss and accuracy."
      ]
    },
    {
      "metadata": {
        "id": "y9A_qr0AjHQz",
        "colab_type": "code",
        "colab": {
          "base_uri": "https://localhost:8080/",
          "height": 204
        },
        "outputId": "ae3285f5-8760-4def-f34c-0813ae52212b"
      },
      "cell_type": "code",
      "source": [
        "model = tf.keras.models.Sequential()\n",
        "model.add(tf.keras.layers.Flatten())\n",
        "model.add(tf.keras.layers.Dense(10, activation=tf.nn.softmax))\n",
        "model.compile(optimizer='sgd', loss='sparse_categorical_crossentropy', metrics=['accuracy'])\n",
        "model.fit(training_imgs, training_labels, epochs=3)\n",
        "loss_value, accuracy_value = model.evaluate(test_imgs, test_labels)\n",
        "\n",
        "print(\"\\nOverall model performance\")\n",
        "print(\"Loss value: \", loss_value, \"\\nModel accuracy: \", accuracy_value)"
      ],
      "execution_count": 11,
      "outputs": [
        {
          "output_type": "stream",
          "text": [
            "Epoch 1/3\n",
            "60000/60000 [==============================] - 4s 61us/sample - loss: 1.3826 - acc: 0.7440\n",
            "Epoch 2/3\n",
            "60000/60000 [==============================] - 3s 43us/sample - loss: 0.7929 - acc: 0.8386\n",
            "Epoch 3/3\n",
            "60000/60000 [==============================] - 3s 42us/sample - loss: 0.6392 - acc: 0.8541\n",
            "10000/10000 [==============================] - 0s 33us/sample - loss: 0.5787 - acc: 0.8717\n",
            "\n",
            "Overall model performance\n",
            "Loss value:  0.5786522795200348 \n",
            "Model accuracy:  0.8717\n"
          ],
          "name": "stdout"
        }
      ]
    },
    {
      "metadata": {
        "id": "SvRQFLLVjWHp",
        "colab_type": "text"
      },
      "cell_type": "markdown",
      "source": [
        "Determine and display loss and model accuracy. Display an example prediction."
      ]
    },
    {
      "metadata": {
        "id": "9fnNMZJOjOei",
        "colab_type": "code",
        "colab": {
          "base_uri": "https://localhost:8080/",
          "height": 381
        },
        "outputId": "b67c4250-29db-44d9-c2c7-75f64db288a2"
      },
      "cell_type": "code",
      "source": [
        "# Seed and create random number to test a random image\n",
        "np.random.seed()\n",
        "test_index = np.random.randint(0, len(test_imgs), size=None)\n",
        "\n",
        "plt.imshow(test_imgs[test_index], cmap = plt.cm.binary)\n",
        "plt.show()\n",
        "\n",
        "predections = model.predict([test_imgs])\n",
        "\n",
        "print(\"Actual number: \", test_labels[test_index])\n",
        "print(\"Predicted number: \", np.argmax(predections[test_index]))"
      ],
      "execution_count": 12,
      "outputs": [
        {
          "output_type": "display_data",
          "data": {
            "image/png": "[encoded data removed]",
            "text/plain": [
              "<Figure size 576x396 with 1 Axes>"
            ]
          },
          "metadata": {
            "tags": []
          }
        },
        {
          "output_type": "stream",
          "text": [
            "Actual number:  7\n",
            "Predicted number:  7\n"
          ],
          "name": "stdout"
        }
      ]
    }
  ]
}