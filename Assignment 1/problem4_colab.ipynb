{
  "nbformat": 4,
  "nbformat_minor": 0,
  "metadata": {
    "colab": {
      "name": "problem4_colab.ipynb",
      "version": "0.3.2",
      "provenance": [],
      "collapsed_sections": [],
      "include_colab_link": true
    },
    "kernelspec": {
      "name": "python3",
      "display_name": "Python 3"
    }
  },
  "cells": [
    {
      "cell_type": "markdown",
      "metadata": {
        "id": "view-in-github",
        "colab_type": "text"
      },
      "source": [
        "<a href=\"https://colab.research.google.com/github/HarrisonWBlack/Machine-Learning-CAP-5610/blob/master/Assignment%201/problem4_colab.ipynb\" target=\"_parent\"><img src=\"https://colab.research.google.com/assets/colab-badge.svg\" alt=\"Open In Colab\"/></a>"
      ]
    },
    {
      "metadata": {
        "id": "3FweAHnZjTh8",
        "colab_type": "text"
      },
      "cell_type": "markdown",
      "source": [
        "**Problem 4:  Reimplement the network from Problem 3 entirely in Keras.**"
      ]
    },
    {
      "metadata": {
        "id": "AkGeO6U3jTsp",
        "colab_type": "text"
      },
      "cell_type": "markdown",
      "source": [
        "Load in the training and test images"
      ]
    },
    {
      "metadata": {
        "id": "saIP_fZoi8Wl",
        "colab_type": "code",
        "colab": {}
      },
      "cell_type": "code",
      "source": [
        "# Harrison Black\n",
        "# HA435377\n",
        "# CAP 5610\n",
        "# UCF Spring 2019\n",
        "\n",
        "# Problem 4\n",
        "# Reimplement the network from Problem 3 entirely in Keras.\n",
        "\n",
        "import tensorflow as tf\n",
        "import numpy as np\n",
        "import matplotlib.pyplot as plt\n",
        "\n",
        "mnist = tf.keras.datasets.mnist\n",
        "(training_imgs, training_labels), (test_imgs, test_labels) = mnist.load_data()\n",
        "\n",
        "training_imgs = tf.keras.utils.normalize(training_imgs, axis=1)\n",
        "test_imgs = tf.keras.utils.normalize(test_imgs, axis=1)\n"
      ],
      "execution_count": 0,
      "outputs": []
    },
    {
      "metadata": {
        "id": "7a5pEVqhjVYZ",
        "colab_type": "text"
      },
      "cell_type": "markdown",
      "source": [
        "Train model using Keras. Determine and display overall model loss and accuracy."
      ]
    },
    {
      "metadata": {
        "id": "y9A_qr0AjHQz",
        "colab_type": "code",
        "outputId": "ad996497-6277-4404-b9ef-d3b1f29932e0",
        "colab": {
          "base_uri": "https://localhost:8080/",
          "height": 275
        }
      },
      "cell_type": "code",
      "source": [
        "model = tf.keras.models.Sequential()\n",
        "model.add(tf.keras.layers.Flatten())\n",
        "model.add(tf.keras.layers.Dense(10, activation=tf.nn.softmax))\n",
        "model.compile(optimizer='sgd', loss='sparse_categorical_crossentropy', metrics=['accuracy'])\n",
        "model.fit(training_imgs, training_labels, epochs=3)\n",
        "loss_value, accuracy_value = model.evaluate(test_imgs, test_labels)\n",
        "\n",
        "print(\"\\nOverall model performance\")\n",
        "print(\"Loss value: \", loss_value, \"\\nModel accuracy: \", round(accuracy_value * 100, 2), \"%\")"
      ],
      "execution_count": 0,
      "outputs": [
        {
          "output_type": "stream",
          "text": [
            "WARNING:tensorflow:From /usr/local/lib/python3.6/dist-packages/tensorflow/python/ops/resource_variable_ops.py:435: colocate_with (from tensorflow.python.framework.ops) is deprecated and will be removed in a future version.\n",
            "Instructions for updating:\n",
            "Colocations handled automatically by placer.\n",
            "Epoch 1/3\n",
            "60000/60000 [==============================] - 3s 47us/sample - loss: 1.4030 - acc: 0.7316\n",
            "Epoch 2/3\n",
            "60000/60000 [==============================] - 3s 42us/sample - loss: 0.7982 - acc: 0.8379\n",
            "Epoch 3/3\n",
            "60000/60000 [==============================] - 2s 41us/sample - loss: 0.6424 - acc: 0.8522\n",
            "10000/10000 [==============================] - 0s 30us/sample - loss: 0.5792 - acc: 0.8729\n",
            "\n",
            "Overall model performance\n",
            "Loss value:  0.5791855358600616 \n",
            "Model accuracy:  87.29 %\n"
          ],
          "name": "stdout"
        }
      ]
    },
    {
      "metadata": {
        "id": "SvRQFLLVjWHp",
        "colab_type": "text"
      },
      "cell_type": "markdown",
      "source": [
        "Determine and display loss and model accuracy. Display an example prediction."
      ]
    },
    {
      "metadata": {
        "id": "9fnNMZJOjOei",
        "colab_type": "code",
        "outputId": "4703790f-ca93-406e-da71-8fc5178786dc",
        "colab": {
          "base_uri": "https://localhost:8080/",
          "height": 381
        }
      },
      "cell_type": "code",
      "source": [
        "# Seed and create random number to test a random image\n",
        "np.random.seed()\n",
        "test_index = np.random.randint(0, len(test_imgs), size=None)\n",
        "\n",
        "plt.imshow(test_imgs[test_index], cmap = plt.cm.binary)\n",
        "plt.show()\n",
        "\n",
        "predections = model.predict([test_imgs])\n",
        "\n",
        "print(\"Actual number: \", test_labels[test_index])\n",
        "print(\"Predicted number: \", np.argmax(predections[test_index]))"
      ],
      "execution_count": 0,
      "outputs": [
        {
          "output_type": "display_data",
          "data": {
            "image/png": "[encoded data removed]",
            "text/plain": [
              "<Figure size 576x396 with 1 Axes>"
            ]
          },
          "metadata": {
            "tags": []
          }
        },
        {
          "output_type": "stream",
          "text": [
            "Actual number:  1\n",
            "Predicted number:  1\n"
          ],
          "name": "stdout"
        }
      ]
    }
  ]
}