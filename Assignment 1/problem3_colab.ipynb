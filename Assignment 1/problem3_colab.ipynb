{
  "nbformat": 4,
  "nbformat_minor": 0,
  "metadata": {
    "colab": {
      "name": "problem3 colab.ipynb",
      "version": "0.3.2",
      "provenance": [],
      "collapsed_sections": [],
      "include_colab_link": true
    },
    "kernelspec": {
      "name": "python3",
      "display_name": "Python 3"
    }
  },
  "cells": [
    {
      "cell_type": "markdown",
      "metadata": {
        "id": "view-in-github",
        "colab_type": "text"
      },
      "source": [
        "<a href=\"https://colab.research.google.com/github/HarrisonWBlack/Machine-Learning-CAP-5610/blob/master/Assignment%201/problem3_colab.ipynb\" target=\"_parent\"><img src=\"https://colab.research.google.com/assets/colab-badge.svg\" alt=\"Open In Colab\"/></a>"
      ]
    },
    {
      "metadata": {
        "id": "iV4_YRL2UDfz",
        "colab_type": "text"
      },
      "cell_type": "markdown",
      "source": [
        "**Problem 3: Create network with an input layer consisting of 28 x 28 input neurons and an output layer consisting of 10 output neurons.**"
      ]
    },
    {
      "metadata": {
        "id": "vf07glitUGrm",
        "colab_type": "text"
      },
      "cell_type": "markdown",
      "source": [
        "I was unable to get mini-batch to work, so here is a full batch version."
      ]
    },
    {
      "metadata": {
        "id": "flQk540JkZUj",
        "colab_type": "code",
        "outputId": "b470d801-a691-4481-8a2b-436717929329",
        "colab": {
          "base_uri": "https://localhost:8080/",
          "height": 34
        }
      },
      "cell_type": "code",
      "source": [
        "# Harrison Black\n",
        "# HA435377\n",
        "# CAP 5610\n",
        "# UCF Spring 2019\n",
        "\n",
        "# Problem 3\n",
        "# Create network with an input layer consisting of 28 x 28 input neurons and an output layer consisting of 10 output neurons.\n",
        "\n",
        "import tensorflow as tf\n",
        "import numpy as np\n",
        "import matplotlib.pyplot as plt\n",
        "from keras.utils import to_categorical\n",
        "\n",
        "# Load data set. 60000 training images, 10000 testing images\n",
        "mnist = tf.keras.datasets.mnist\n",
        "(training_imgs, training_labels), (test_imgs_og, test_labels) = mnist.load_data()\n",
        "number_of_imgs, num_rows, num_columns = training_imgs.shape\n",
        "\n",
        "# Reshape data set to vectors\n",
        "training_imgs = (training_imgs.reshape(number_of_imgs, num_rows * num_columns, 1)).astype('float32') / 255\n",
        "test_imgs = (test_imgs_og.reshape(len(test_imgs_og), num_rows * num_columns)).astype('float32') / 255\n",
        "  \n",
        "training_labels = to_categorical(training_labels)\n",
        "test_labels = to_categorical(test_labels)\n",
        "  "
      ],
      "execution_count": 1,
      "outputs": [
        {
          "output_type": "stream",
          "text": [
            "Using TensorFlow backend.\n"
          ],
          "name": "stderr"
        }
      ]
    },
    {
      "metadata": {
        "id": "ePeh3yISEr83",
        "colab_type": "text"
      },
      "cell_type": "markdown",
      "source": [
        "Function and class definitions"
      ]
    },
    {
      "metadata": {
        "id": "Lt68kjqnEK8r",
        "colab_type": "code",
        "colab": {}
      },
      "cell_type": "code",
      "source": [
        "def softmax(z):\n",
        "  z1 = z.max()\n",
        "  z2 = np.exp(z - z1)\n",
        "  return z2 / z2.sum()\n",
        "\n",
        "def cross_ent_prime(a, y):\n",
        "  prime = a - y.T\n",
        "  return prime\n",
        "\n",
        "# Image Classifier class\n",
        "class ImageClassifier:\n",
        "  def __init__(self, learning_rate):\n",
        "    self.learning_rate = learning_rate\n",
        "    self.weights = np.zeros((num_rows * num_columns, 10))\n",
        "    self.biases = np.random.rand(10, 1)\n",
        "    self.loss = 0\n",
        "\n",
        "  def model_training(self, imgs, labels, batch_size, epochs):\n",
        "    \n",
        "    num_imgs = len(imgs)\n",
        "    learning_rate = self.learning_rate\n",
        "\n",
        "    for i in range(number_of_imgs):\n",
        "\n",
        "          x = training_imgs[i].reshape(1, num_rows * num_columns)\n",
        "          y = training_labels[i].reshape(1, 10)\n",
        "          z = np.dot(self.weights.T, x.T) + self.biases\n",
        "          a = softmax(z)\n",
        "          \n",
        "          weight_gradient = ( np.dot(x.T, cross_ent_prime(a, y).T))\n",
        "          bias_gradient = (np.sum(cross_ent_prime(a, y)).T) \n",
        "          self.weights -= weight_gradient * learning_rate\n",
        "          self.biases -= bias_gradient * learning_rate\n",
        "\n",
        "  def test_model(self, imgs, labels):\n",
        "    \n",
        "    num_correct = 0\n",
        "    loss = 0.0\n",
        "    \n",
        "    for i in range(len(imgs)):\n",
        "      x = imgs[i].reshape(num_rows * num_columns, 1)\n",
        "      y = labels[i].reshape(10, 1)\n",
        "      z = np.dot(self.weights.T, x) + self.biases\n",
        "      a = softmax(z)\n",
        "      \n",
        "      if np.argmax(a) == np.argmax(y):\n",
        "            num_correct += 1\n",
        "          \n",
        "    accuracy = num_correct / len(imgs)\n",
        "    return accuracy"
      ],
      "execution_count": 0,
      "outputs": []
    },
    {
      "metadata": {
        "id": "JBMXrrgpEzY9",
        "colab_type": "text"
      },
      "cell_type": "markdown",
      "source": [
        "Train and test the model to find the model accuracy"
      ]
    },
    {
      "metadata": {
        "id": "R72H-cIYED9P",
        "colab_type": "code",
        "colab": {
          "base_uri": "https://localhost:8080/",
          "height": 34
        },
        "outputId": "104490c1-9b1b-423c-e753-35fa7494bcdb"
      },
      "cell_type": "code",
      "source": [
        "# Pass in desired learning rate\n",
        "model = ImageClassifier(0.005)\n",
        "model.model_training(training_imgs, training_labels, 10, 3)\n",
        "\n",
        "accuracy = model.test_model(test_imgs, test_labels)\n",
        "print(\"Overall model accuracy: \", round(accuracy * 100, 2), \"%\")"
      ],
      "execution_count": 3,
      "outputs": [
        {
          "output_type": "stream",
          "text": [
            "Overall model accuracy:  90.93 %\n"
          ],
          "name": "stdout"
        }
      ]
    }
  ]
}