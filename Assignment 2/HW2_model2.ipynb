{
  "nbformat": 4,
  "nbformat_minor": 0,
  "metadata": {
    "colab": {
      "name": "HW2_model2.ipynb",
      "version": "0.3.2",
      "provenance": [],
      "collapsed_sections": [],
      "include_colab_link": true
    },
    "kernelspec": {
      "name": "python3",
      "display_name": "Python 3"
    },
    "accelerator": "GPU"
  },
  "cells": [
    {
      "cell_type": "markdown",
      "metadata": {
        "id": "view-in-github",
        "colab_type": "text"
      },
      "source": [
        "<a href=\"https://colab.research.google.com/github/HarrisonWBlack/Machine-Learning-CAP-5610/blob/master/Assignment%202/HW2_model2.ipynb\" target=\"_parent\"><img src=\"https://colab.research.google.com/assets/colab-badge.svg\" alt=\"Open In Colab\"/></a>"
      ]
    },
    {
      "metadata": {
        "id": "iTkfOJQU0CVD",
        "colab_type": "text"
      },
      "cell_type": "markdown",
      "source": [
        "**Five layer, dropout, with batch normalization and no data augmentation at 25 Epochs.** "
      ]
    },
    {
      "metadata": {
        "id": "PW9HYv5yfm_Q",
        "colab_type": "code",
        "colab": {}
      },
      "cell_type": "code",
      "source": [
        "import matplotlib.pyplot as plt\n",
        "import keras\n",
        "import numpy as np\n",
        "from tensorflow.keras.datasets import cifar10\n",
        "from tensorflow.keras.layers import Activation, Conv2D, Dense, Dropout, Flatten, MaxPooling2D, BatchNormalization\n",
        "from tensorflow.keras.preprocessing.image import ImageDataGenerator\n",
        "from tensorflow.keras.utils import to_categorical\n",
        "from tensorflow.keras.models import Sequential\n",
        "\n",
        "(training_images, training_labels), (testing_images, testing_labels) = cifar10.load_data()\n",
        "\n",
        "batch_size = 256\n",
        "epochs = 25\n",
        "augment_data = False\n",
        "\n",
        "training_labels = keras.utils.to_categorical(training_labels)\n",
        "testing_labels = keras.utils.to_categorical(testing_labels)\n"
      ],
      "execution_count": 0,
      "outputs": []
    },
    {
      "metadata": {
        "id": "10QKnrDMja54",
        "colab_type": "code",
        "colab": {}
      },
      "cell_type": "code",
      "source": [
        "dropout_rate = 0.2\n",
        "\n",
        "model = Sequential()\n",
        "model.add(Conv2D(32, (3, 3), activation='relu', input_shape=training_images.shape[1:]))\n",
        "model.add(BatchNormalization())\n",
        "model.add(MaxPooling2D((2,2)))\n",
        "model.add(Dropout(dropout_rate))\n",
        "\n",
        "model.add(Conv2D(64, (3, 3), activation='relu'))\n",
        "model.add(BatchNormalization())\n",
        "model.add(MaxPooling2D(pool_size=(2,2)))\n",
        "model.add(Dropout(dropout_rate))\n",
        "\n",
        "model.add(Conv2D(128, kernel_size=(3, 3), activation='relu'))\n",
        "model.add(BatchNormalization())\n",
        "model.add(Dropout(dropout_rate))\n",
        "\n",
        "model.add(Flatten())\n",
        "\n",
        "model.add(Dense(128, activation='relu'))\n",
        "model.add(BatchNormalization())\n",
        "model.add(Dense(10, activation='softmax'))\n"
      ],
      "execution_count": 0,
      "outputs": []
    },
    {
      "metadata": {
        "id": "vN_SUvYllw2e",
        "colab_type": "code",
        "outputId": "8c86d832-f474-4541-cd58-002cefb01949",
        "colab": {
          "base_uri": "https://localhost:8080/",
          "height": 903
        }
      },
      "cell_type": "code",
      "source": [
        "model.compile(loss=\"categorical_crossentropy\",\n",
        "             optimizer=\"Adam\",\n",
        "             metrics=[\"accuracy\"])\n",
        "\n",
        "training_images = training_images.astype(\"float32\") / 255\n",
        "testing_images = testing_images.astype(\"float32\") / 255\n",
        "\n",
        "if not augment_data:\n",
        "  model.fit(training_images, training_labels,\n",
        "           batch_size=batch_size,\n",
        "           epochs=epochs,\n",
        "           validation_data=(testing_images, testing_labels),\n",
        "           shuffle=True)\n",
        "  \n",
        "else:\n",
        "  datagen = ImageDataGenerator(\n",
        "    featurewise_center=False,\n",
        "    samplewise_center=False,\n",
        "    featurewise_std_normalization=False,\n",
        "    samplewise_std_normalization=False,\n",
        "    zca_whitening=False,\n",
        "    zca_epsilon=1e-06,\n",
        "    rotation_range=0,\n",
        "    width_shift_range=0.1,\n",
        "    height_shift_range=0.1,\n",
        "    shear_range=0.,\n",
        "    zoom_range=0.,\n",
        "    channel_shift_range=0.,\n",
        "    fill_mode=\"nearest\",\n",
        "    cval=0.,\n",
        "    horizontal_flip=True,\n",
        "    vertical_flip=False,\n",
        "    rescale=None,\n",
        "    preprocessing_function=None,\n",
        "    data_format=None,\n",
        "    validation_split=0.0)\n",
        "  \n",
        "  datagen.fit(training_images)\n",
        "  model.fit_generator(datagen.flow(training_images, training_labels,\n",
        "                                  batch_size=batch_size),\n",
        "                     epochs=epochs,\n",
        "                     validation_data=(testing_images, testing_labels),\n",
        "                     workers=1)\n"
      ],
      "execution_count": 15,
      "outputs": [
        {
          "output_type": "stream",
          "text": [
            "Train on 50000 samples, validate on 10000 samples\n",
            "Epoch 1/25\n",
            "50000/50000 [==============================] - 11s 224us/sample - loss: 1.4744 - acc: 0.4778 - val_loss: 2.8916 - val_acc: 0.1531\n",
            "Epoch 2/25\n",
            "50000/50000 [==============================] - 9s 186us/sample - loss: 1.1009 - acc: 0.6117 - val_loss: 2.8204 - val_acc: 0.2601\n",
            "Epoch 3/25\n",
            "50000/50000 [==============================] - 9s 185us/sample - loss: 0.9483 - acc: 0.6662 - val_loss: 1.4046 - val_acc: 0.5297\n",
            "Epoch 4/25\n",
            "50000/50000 [==============================] - 9s 186us/sample - loss: 0.8399 - acc: 0.7047 - val_loss: 1.1905 - val_acc: 0.5974\n",
            "Epoch 5/25\n",
            "50000/50000 [==============================] - 10s 191us/sample - loss: 0.7678 - acc: 0.7302 - val_loss: 0.8258 - val_acc: 0.7158\n",
            "Epoch 6/25\n",
            "50000/50000 [==============================] - 10s 200us/sample - loss: 0.7138 - acc: 0.7482 - val_loss: 0.7940 - val_acc: 0.7269\n",
            "Epoch 7/25\n",
            "50000/50000 [==============================] - 9s 189us/sample - loss: 0.6595 - acc: 0.7688 - val_loss: 0.7581 - val_acc: 0.7401\n",
            "Epoch 8/25\n",
            "50000/50000 [==============================] - 9s 189us/sample - loss: 0.6127 - acc: 0.7863 - val_loss: 0.8829 - val_acc: 0.7007\n",
            "Epoch 9/25\n",
            "50000/50000 [==============================] - 9s 184us/sample - loss: 0.5762 - acc: 0.7961 - val_loss: 0.8041 - val_acc: 0.7307\n",
            "Epoch 10/25\n",
            "50000/50000 [==============================] - 9s 190us/sample - loss: 0.5453 - acc: 0.8082 - val_loss: 0.7600 - val_acc: 0.7445\n",
            "Epoch 11/25\n",
            "50000/50000 [==============================] - 10s 191us/sample - loss: 0.5125 - acc: 0.8189 - val_loss: 0.9315 - val_acc: 0.6962\n",
            "Epoch 12/25\n",
            "50000/50000 [==============================] - 9s 187us/sample - loss: 0.4800 - acc: 0.8298 - val_loss: 0.7655 - val_acc: 0.7467\n",
            "Epoch 13/25\n",
            "50000/50000 [==============================] - 10s 193us/sample - loss: 0.4591 - acc: 0.8388 - val_loss: 0.8488 - val_acc: 0.7296\n",
            "Epoch 14/25\n",
            "50000/50000 [==============================] - 10s 192us/sample - loss: 0.4280 - acc: 0.8489 - val_loss: 0.7753 - val_acc: 0.7452\n",
            "Epoch 15/25\n",
            "50000/50000 [==============================] - 10s 192us/sample - loss: 0.4110 - acc: 0.8521 - val_loss: 0.9699 - val_acc: 0.6987\n",
            "Epoch 16/25\n",
            "50000/50000 [==============================] - 10s 197us/sample - loss: 0.3892 - acc: 0.8627 - val_loss: 0.8053 - val_acc: 0.7469\n",
            "Epoch 17/25\n",
            "50000/50000 [==============================] - 10s 194us/sample - loss: 0.3646 - acc: 0.8695 - val_loss: 0.8357 - val_acc: 0.7421\n",
            "Epoch 18/25\n",
            "50000/50000 [==============================] - 10s 191us/sample - loss: 0.3512 - acc: 0.8758 - val_loss: 0.8354 - val_acc: 0.7376\n",
            "Epoch 19/25\n",
            "50000/50000 [==============================] - 10s 192us/sample - loss: 0.3375 - acc: 0.8805 - val_loss: 0.7687 - val_acc: 0.7647\n",
            "Epoch 20/25\n",
            "50000/50000 [==============================] - 10s 191us/sample - loss: 0.3195 - acc: 0.8860 - val_loss: 1.0352 - val_acc: 0.7020\n",
            "Epoch 21/25\n",
            "50000/50000 [==============================] - 10s 198us/sample - loss: 0.3107 - acc: 0.8896 - val_loss: 0.8142 - val_acc: 0.7550\n",
            "Epoch 22/25\n",
            "50000/50000 [==============================] - 12s 248us/sample - loss: 0.2992 - acc: 0.8935 - val_loss: 0.9573 - val_acc: 0.7230\n",
            "Epoch 23/25\n",
            "50000/50000 [==============================] - 12s 246us/sample - loss: 0.2827 - acc: 0.8991 - val_loss: 0.9147 - val_acc: 0.7386\n",
            "Epoch 24/25\n",
            "50000/50000 [==============================] - 12s 250us/sample - loss: 0.2742 - acc: 0.9026 - val_loss: 1.0531 - val_acc: 0.7246\n",
            "Epoch 25/25\n",
            "50000/50000 [==============================] - 12s 249us/sample - loss: 0.2577 - acc: 0.9071 - val_loss: 0.8855 - val_acc: 0.7451\n"
          ],
          "name": "stdout"
        }
      ]
    },
    {
      "metadata": {
        "id": "IThBqEX3rhI3",
        "colab_type": "code",
        "colab": {
          "base_uri": "https://localhost:8080/",
          "height": 69
        },
        "outputId": "bba1eedd-05f3-4e11-b187-534271245674"
      },
      "cell_type": "code",
      "source": [
        "scores = model.evaluate(testing_images, testing_labels, verbose=1)\n",
        "print(\"Test loss: \", scores[0])\n",
        "print(\"Test accuracy: \", scores[1])"
      ],
      "execution_count": 16,
      "outputs": [
        {
          "output_type": "stream",
          "text": [
            "10000/10000 [==============================] - 2s 235us/sample - loss: 0.8855 - acc: 0.7451\n",
            "Test loss:  0.8854598851680756\n",
            "Test accuracy:  0.7451\n"
          ],
          "name": "stdout"
        }
      ]
    }
  ]
}