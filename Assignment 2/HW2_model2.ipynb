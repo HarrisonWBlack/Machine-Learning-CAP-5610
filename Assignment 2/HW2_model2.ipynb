{
  "nbformat": 4,
  "nbformat_minor": 0,
  "metadata": {
    "colab": {
      "name": "HW2_model2.ipynb",
      "version": "0.3.2",
      "provenance": [],
      "collapsed_sections": [],
      "include_colab_link": true
    },
    "kernelspec": {
      "name": "python3",
      "display_name": "Python 3"
    },
    "accelerator": "GPU"
  },
  "cells": [
    {
      "cell_type": "markdown",
      "metadata": {
        "id": "view-in-github",
        "colab_type": "text"
      },
      "source": [
        "<a href=\"https://colab.research.google.com/github/HarrisonWBlack/Machine-Learning-CAP-5610/blob/master/Assignment%202/HW2_model2.ipynb\" target=\"_parent\"><img src=\"https://colab.research.google.com/assets/colab-badge.svg\" alt=\"Open In Colab\"/></a>"
      ]
    },
    {
      "metadata": {
        "id": "iTkfOJQU0CVD",
        "colab_type": "text"
      },
      "cell_type": "markdown",
      "source": [
        "**Five layer, dropout, with batch normalization and no data augmentation at 25 Epochs.** "
      ]
    },
    {
      "metadata": {
        "id": "PW9HYv5yfm_Q",
        "colab_type": "code",
        "colab": {}
      },
      "cell_type": "code",
      "source": [
        "import matplotlib.pyplot as plt\n",
        "import keras\n",
        "import numpy as np\n",
        "from tensorflow.keras.datasets import cifar10\n",
        "from tensorflow.keras.layers import Activation, Conv2D, Dense, Dropout, Flatten, MaxPooling2D, BatchNormalization\n",
        "from tensorflow.keras.preprocessing.image import ImageDataGenerator\n",
        "from tensorflow.keras.utils import to_categorical\n",
        "from tensorflow.keras.models import Sequential\n",
        "\n",
        "(training_images, training_labels), (testing_images, testing_labels) = cifar10.load_data()\n",
        "\n",
        "batch_size = 256\n",
        "epochs = 25\n",
        "augment_data = False\n",
        "\n",
        "training_labels = keras.utils.to_categorical(training_labels)\n",
        "testing_labels = keras.utils.to_categorical(testing_labels)\n"
      ],
      "execution_count": 0,
      "outputs": []
    },
    {
      "metadata": {
        "id": "10QKnrDMja54",
        "colab_type": "code",
        "colab": {}
      },
      "cell_type": "code",
      "source": [
        "dropout_rate = 0.2\n",
        "\n",
        "model = Sequential()\n",
        "model.add(Conv2D(32, (3, 3), activation='relu', input_shape=training_images.shape[1:]))\n",
        "model.add(BatchNormalization())\n",
        "model.add(MaxPooling2D((2,2)))\n",
        "model.add(Dropout(dropout_rate))\n",
        "\n",
        "model.add(Conv2D(64, (3, 3), activation='relu'))\n",
        "model.add(BatchNormalization())\n",
        "model.add(MaxPooling2D(pool_size=(2,2)))\n",
        "model.add(Dropout(dropout_rate))\n",
        "\n",
        "model.add(Conv2D(128, kernel_size=(3, 3), activation='relu'))\n",
        "model.add(BatchNormalization())\n",
        "model.add(Dropout(dropout_rate))\n",
        "\n",
        "model.add(Flatten())\n",
        "\n",
        "model.add(Dense(128, activation='relu'))\n",
        "model.add(BatchNormalization())\n",
        "model.add(Dense(10, activation='softmax'))\n"
      ],
      "execution_count": 0,
      "outputs": []
    },
    {
      "metadata": {
        "id": "vN_SUvYllw2e",
        "colab_type": "code",
        "outputId": "5736fba1-f743-4ce3-c008-7d5509a89272",
        "colab": {
          "base_uri": "https://localhost:8080/",
          "height": 903
        }
      },
      "cell_type": "code",
      "source": [
        "model.compile(loss=\"categorical_crossentropy\",\n",
        "             optimizer=\"Adam\",\n",
        "             metrics=[\"accuracy\"])\n",
        "\n",
        "training_images = training_images.astype(\"float32\") / 255\n",
        "testing_images = testing_images.astype(\"float32\") / 255\n",
        "\n",
        "if not augment_data:\n",
        "  model.fit(training_images, training_labels,\n",
        "           batch_size=batch_size,\n",
        "           epochs=epochs,\n",
        "           validation_data=(testing_images, testing_labels),\n",
        "           shuffle=True)\n",
        "  \n",
        "else:\n",
        "  datagen = ImageDataGenerator(\n",
        "    featurewise_center=False,\n",
        "    samplewise_center=False,\n",
        "    featurewise_std_normalization=False,\n",
        "    samplewise_std_normalization=False,\n",
        "    zca_whitening=False,\n",
        "    zca_epsilon=1e-06,\n",
        "    rotation_range=0,\n",
        "    width_shift_range=0.1,\n",
        "    height_shift_range=0.1,\n",
        "    shear_range=0.,\n",
        "    zoom_range=0.,\n",
        "    channel_shift_range=0.,\n",
        "    fill_mode=\"nearest\",\n",
        "    cval=0.,\n",
        "    horizontal_flip=True,\n",
        "    vertical_flip=False,\n",
        "    rescale=None,\n",
        "    preprocessing_function=None,\n",
        "    data_format=None,\n",
        "    validation_split=0.0)\n",
        "  \n",
        "  datagen.fit(training_images)\n",
        "  model.fit_generator(datagen.flow(training_images, training_labels,\n",
        "                                  batch_size=batch_size),\n",
        "                     epochs=epochs,\n",
        "                     validation_data=(testing_images, testing_labels),\n",
        "                     workers=1)\n"
      ],
      "execution_count": 19,
      "outputs": [
        {
          "output_type": "stream",
          "text": [
            "Train on 50000 samples, validate on 10000 samples\n",
            "Epoch 1/25\n",
            "50000/50000 [==============================] - 12s 241us/sample - loss: 1.4775 - acc: 0.4829 - val_loss: 3.8281 - val_acc: 0.1040\n",
            "Epoch 2/25\n",
            "50000/50000 [==============================] - 10s 192us/sample - loss: 1.0822 - acc: 0.6167 - val_loss: 3.0709 - val_acc: 0.2375\n",
            "Epoch 3/25\n",
            "50000/50000 [==============================] - 10s 192us/sample - loss: 0.9251 - acc: 0.6736 - val_loss: 1.5953 - val_acc: 0.4971\n",
            "Epoch 4/25\n",
            "50000/50000 [==============================] - 10s 194us/sample - loss: 0.8178 - acc: 0.7127 - val_loss: 0.9688 - val_acc: 0.6666\n",
            "Epoch 5/25\n",
            "50000/50000 [==============================] - 10s 210us/sample - loss: 0.7485 - acc: 0.7369 - val_loss: 0.9203 - val_acc: 0.6862\n",
            "Epoch 6/25\n",
            "50000/50000 [==============================] - 10s 197us/sample - loss: 0.6882 - acc: 0.7569 - val_loss: 0.7875 - val_acc: 0.7253\n",
            "Epoch 7/25\n",
            "50000/50000 [==============================] - 9s 185us/sample - loss: 0.6445 - acc: 0.7741 - val_loss: 0.8195 - val_acc: 0.7222\n",
            "Epoch 8/25\n",
            "50000/50000 [==============================] - 9s 185us/sample - loss: 0.6045 - acc: 0.7881 - val_loss: 0.9316 - val_acc: 0.6882\n",
            "Epoch 9/25\n",
            "50000/50000 [==============================] - 9s 184us/sample - loss: 0.5687 - acc: 0.7988 - val_loss: 0.7808 - val_acc: 0.7375\n",
            "Epoch 10/25\n",
            "50000/50000 [==============================] - 9s 186us/sample - loss: 0.5313 - acc: 0.8119 - val_loss: 0.7312 - val_acc: 0.7522\n",
            "Epoch 11/25\n",
            "50000/50000 [==============================] - 10s 193us/sample - loss: 0.5013 - acc: 0.8221 - val_loss: 0.7922 - val_acc: 0.7366\n",
            "Epoch 12/25\n",
            "50000/50000 [==============================] - 10s 203us/sample - loss: 0.4722 - acc: 0.8315 - val_loss: 0.9229 - val_acc: 0.7132\n",
            "Epoch 13/25\n",
            "50000/50000 [==============================] - 10s 204us/sample - loss: 0.4495 - acc: 0.8403 - val_loss: 0.7535 - val_acc: 0.7567\n",
            "Epoch 14/25\n",
            "50000/50000 [==============================] - 10s 202us/sample - loss: 0.4234 - acc: 0.8482 - val_loss: 0.7517 - val_acc: 0.7617\n",
            "Epoch 15/25\n",
            "50000/50000 [==============================] - 10s 203us/sample - loss: 0.4029 - acc: 0.8545 - val_loss: 0.7145 - val_acc: 0.7670\n",
            "Epoch 16/25\n",
            "50000/50000 [==============================] - 10s 203us/sample - loss: 0.3843 - acc: 0.8624 - val_loss: 0.9240 - val_acc: 0.7220\n",
            "Epoch 17/25\n",
            "50000/50000 [==============================] - 10s 208us/sample - loss: 0.3672 - acc: 0.8692 - val_loss: 0.7901 - val_acc: 0.7565\n",
            "Epoch 18/25\n",
            "50000/50000 [==============================] - 10s 204us/sample - loss: 0.3474 - acc: 0.8760 - val_loss: 0.8137 - val_acc: 0.7526\n",
            "Epoch 19/25\n",
            "50000/50000 [==============================] - 10s 194us/sample - loss: 0.3335 - acc: 0.8818 - val_loss: 0.9180 - val_acc: 0.7318\n",
            "Epoch 20/25\n",
            "50000/50000 [==============================] - 9s 190us/sample - loss: 0.3172 - acc: 0.8860 - val_loss: 0.7829 - val_acc: 0.7613\n",
            "Epoch 21/25\n",
            "50000/50000 [==============================] - 10s 192us/sample - loss: 0.3094 - acc: 0.8881 - val_loss: 0.7783 - val_acc: 0.7692\n",
            "Epoch 22/25\n",
            "50000/50000 [==============================] - 10s 192us/sample - loss: 0.2992 - acc: 0.8927 - val_loss: 0.7534 - val_acc: 0.7746\n",
            "Epoch 23/25\n",
            "50000/50000 [==============================] - 10s 210us/sample - loss: 0.2813 - acc: 0.8986 - val_loss: 0.8560 - val_acc: 0.7521\n",
            "Epoch 24/25\n",
            "50000/50000 [==============================] - 9s 190us/sample - loss: 0.2763 - acc: 0.9008 - val_loss: 0.9794 - val_acc: 0.7316\n",
            "Epoch 25/25\n",
            "50000/50000 [==============================] - 10s 194us/sample - loss: 0.2679 - acc: 0.9026 - val_loss: 0.8314 - val_acc: 0.7649\n"
          ],
          "name": "stdout"
        }
      ]
    },
    {
      "metadata": {
        "id": "IThBqEX3rhI3",
        "colab_type": "code",
        "colab": {
          "base_uri": "https://localhost:8080/",
          "height": 69
        },
        "outputId": "c1b1386e-aaac-46f1-9ad3-725fad9a2bf7"
      },
      "cell_type": "code",
      "source": [
        "scores = model.evaluate(testing_images, testing_labels, verbose=1)\n",
        "print(\"Test loss: \", scores[0])\n",
        "print(\"Test accuracy: \", scores[1])"
      ],
      "execution_count": 20,
      "outputs": [
        {
          "output_type": "stream",
          "text": [
            "10000/10000 [==============================] - 3s 261us/sample - loss: 0.8314 - acc: 0.7649\n",
            "Test loss:  0.831394020652771\n",
            "Test accuracy:  0.7649\n"
          ],
          "name": "stdout"
        }
      ]
    }
  ]
}