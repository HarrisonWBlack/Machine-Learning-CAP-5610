{
  "nbformat": 4,
  "nbformat_minor": 0,
  "metadata": {
    "colab": {
      "name": "HW2_model5.ipynb",
      "version": "0.3.2",
      "provenance": [],
      "collapsed_sections": [],
      "include_colab_link": true
    },
    "kernelspec": {
      "name": "python3",
      "display_name": "Python 3"
    },
    "accelerator": "GPU"
  },
  "cells": [
    {
      "cell_type": "markdown",
      "metadata": {
        "id": "view-in-github",
        "colab_type": "text"
      },
      "source": [
        "<a href=\"https://colab.research.google.com/github/HarrisonWBlack/Machine-Learning-CAP-5610/blob/master/Assignment%202/HW2_model5.ipynb\" target=\"_parent\"><img src=\"https://colab.research.google.com/assets/colab-badge.svg\" alt=\"Open In Colab\"/></a>"
      ]
    },
    {
      "metadata": {
        "id": "w7ot5-711H2Z",
        "colab_type": "text"
      },
      "cell_type": "markdown",
      "source": [
        "**Six layer, no dropout, with no batch normalization or data augmentation at 25 epochs.**"
      ]
    },
    {
      "metadata": {
        "id": "PW9HYv5yfm_Q",
        "colab_type": "code",
        "colab": {}
      },
      "cell_type": "code",
      "source": [
        "import matplotlib.pyplot as plt\n",
        "import keras\n",
        "import numpy as np\n",
        "from tensorflow.keras.datasets import cifar10\n",
        "from tensorflow.keras.layers import Activation, Conv2D, Dense, Dropout, Flatten, MaxPooling2D\n",
        "from tensorflow.keras.preprocessing.image import ImageDataGenerator\n",
        "from tensorflow.keras.utils import to_categorical\n",
        "from tensorflow.keras.models import Sequential\n",
        "\n",
        "(training_images, training_labels), (testing_images, testing_labels) = cifar10.load_data()\n",
        "\n",
        "batch_size = 256\n",
        "epochs = 25\n",
        "augment_data = False\n",
        "\n",
        "training_labels = keras.utils.to_categorical(training_labels)\n",
        "testing_labels = keras.utils.to_categorical(testing_labels)\n"
      ],
      "execution_count": 0,
      "outputs": []
    },
    {
      "metadata": {
        "id": "10QKnrDMja54",
        "colab_type": "code",
        "colab": {}
      },
      "cell_type": "code",
      "source": [
        "model = Sequential()\n",
        "model.add(Conv2D(32, (3, 3), activation='relu', input_shape=training_images.shape[1:]))\n",
        "model.add(MaxPooling2D((2,2)))\n",
        "model.add(Conv2D(64, (3, 3), activation='relu'))\n",
        "model.add(MaxPooling2D(pool_size=(2,2)))\n",
        "model.add(Conv2D(128, (3, 3), activation='relu'))\n",
        "model.add(MaxPooling2D(pool_size=(2,2)))\n",
        "model.add(Flatten())\n",
        "model.add(Dense(512, activation='relu'))\n",
        "model.add(Dense(128, activation='relu'))\n",
        "model.add(Dense(10, activation='softmax'))"
      ],
      "execution_count": 0,
      "outputs": []
    },
    {
      "metadata": {
        "id": "vN_SUvYllw2e",
        "colab_type": "code",
        "outputId": "619b1d9a-f9ff-4ea3-e4ed-8b3d9ca919a6",
        "colab": {
          "base_uri": "https://localhost:8080/",
          "height": 903
        }
      },
      "cell_type": "code",
      "source": [
        "model.compile(loss=\"categorical_crossentropy\",\n",
        "             optimizer=\"Adam\",\n",
        "             metrics=[\"accuracy\"])\n",
        "\n",
        "training_images = training_images.astype(\"float32\") / 255\n",
        "testing_images = testing_images.astype(\"float32\") / 255\n",
        "\n",
        "if not augment_data:\n",
        "  model.fit(training_images, training_labels,\n",
        "           batch_size=batch_size,\n",
        "           epochs=epochs,\n",
        "           validation_data=(testing_images, testing_labels),\n",
        "           shuffle=True)\n",
        "  \n",
        "else:\n",
        "  datagen = ImageDataGenerator(\n",
        "    featurewise_center=False,\n",
        "    samplewise_center=False,\n",
        "    featurewise_std_normalization=False,\n",
        "    samplewise_std_normalization=False,\n",
        "    zca_whitening=False,\n",
        "    zca_epsilon=1e-06,\n",
        "    rotation_range=0,\n",
        "    width_shift_range=0.1,\n",
        "    height_shift_range=0.1,\n",
        "    shear_range=0.,\n",
        "    zoom_range=0.,\n",
        "    channel_shift_range=0.,\n",
        "    fill_mode=\"nearest\",\n",
        "    cval=0.,\n",
        "    horizontal_flip=True,\n",
        "    vertical_flip=False,\n",
        "    rescale=None,\n",
        "    preprocessing_function=None,\n",
        "    data_format=None,\n",
        "    validation_split=0.0)\n",
        "  \n",
        "  datagen.fit(training_images)\n",
        "  model.fit_generator(datagen.flow(training_images, training_labels,\n",
        "                                  batch_size=batch_size),\n",
        "                     epochs=epochs,\n",
        "                     validation_data=(testing_images, testing_labels),\n",
        "                     workers=1)\n",
        "  "
      ],
      "execution_count": 0,
      "outputs": [
        {
          "output_type": "stream",
          "text": [
            "Train on 50000 samples, validate on 10000 samples\n",
            "Epoch 1/25\n",
            "50000/50000 [==============================] - 50s 995us/sample - loss: 1.4750 - acc: 0.4620 - val_loss: 1.2745 - val_acc: 0.5438\n",
            "Epoch 2/25\n",
            "50000/50000 [==============================] - 47s 942us/sample - loss: 1.0721 - acc: 0.6216 - val_loss: 1.0116 - val_acc: 0.6491\n",
            "Epoch 3/25\n",
            "50000/50000 [==============================] - 44s 887us/sample - loss: 0.9043 - acc: 0.6835 - val_loss: 0.9082 - val_acc: 0.6852\n",
            "Epoch 4/25\n",
            "50000/50000 [==============================] - 48s 965us/sample - loss: 0.7866 - acc: 0.7237 - val_loss: 0.8740 - val_acc: 0.6998\n",
            "Epoch 5/25\n",
            "50000/50000 [==============================] - 44s 882us/sample - loss: 0.7017 - acc: 0.7547 - val_loss: 0.8319 - val_acc: 0.7217\n",
            "Epoch 6/25\n",
            "50000/50000 [==============================] - 50s 1ms/sample - loss: 0.6262 - acc: 0.7801 - val_loss: 0.8373 - val_acc: 0.7213\n",
            "Epoch 7/25\n",
            "50000/50000 [==============================] - 44s 886us/sample - loss: 0.5597 - acc: 0.8020 - val_loss: 0.8595 - val_acc: 0.7144\n",
            "Epoch 8/25\n",
            "50000/50000 [==============================] - 50s 1ms/sample - loss: 0.4982 - acc: 0.8233 - val_loss: 0.8881 - val_acc: 0.7240\n",
            "Epoch 9/25\n",
            "50000/50000 [==============================] - 44s 879us/sample - loss: 0.4439 - acc: 0.8415 - val_loss: 0.8993 - val_acc: 0.7197\n",
            "Epoch 10/25\n",
            "50000/50000 [==============================] - 49s 979us/sample - loss: 0.3884 - acc: 0.8612 - val_loss: 1.0032 - val_acc: 0.7057\n",
            "Epoch 11/25\n",
            "50000/50000 [==============================] - 45s 899us/sample - loss: 0.3482 - acc: 0.8747 - val_loss: 1.0102 - val_acc: 0.7294\n",
            "Epoch 12/25\n",
            "50000/50000 [==============================] - 48s 969us/sample - loss: 0.3027 - acc: 0.8913 - val_loss: 1.0500 - val_acc: 0.7177\n",
            "Epoch 13/25\n",
            "50000/50000 [==============================] - 43s 867us/sample - loss: 0.2718 - acc: 0.9033 - val_loss: 1.0852 - val_acc: 0.7172\n",
            "Epoch 14/25\n",
            "50000/50000 [==============================] - 46s 917us/sample - loss: 0.2454 - acc: 0.9121 - val_loss: 1.1632 - val_acc: 0.7195\n",
            "Epoch 15/25\n",
            "50000/50000 [==============================] - 46s 915us/sample - loss: 0.2226 - acc: 0.9207 - val_loss: 1.1930 - val_acc: 0.7187\n",
            "Epoch 16/25\n",
            "50000/50000 [==============================] - 50s 1ms/sample - loss: 0.2084 - acc: 0.9261 - val_loss: 1.3159 - val_acc: 0.7119\n",
            "Epoch 17/25\n",
            "50000/50000 [==============================] - 44s 884us/sample - loss: 0.1853 - acc: 0.9340 - val_loss: 1.3938 - val_acc: 0.7161\n",
            "Epoch 18/25\n",
            "50000/50000 [==============================] - 50s 994us/sample - loss: 0.1723 - acc: 0.9398 - val_loss: 1.3162 - val_acc: 0.7243\n",
            "Epoch 19/25\n",
            "50000/50000 [==============================] - 44s 884us/sample - loss: 0.1660 - acc: 0.9410 - val_loss: 1.4330 - val_acc: 0.7143\n",
            "Epoch 20/25\n",
            "50000/50000 [==============================] - 49s 975us/sample - loss: 0.1555 - acc: 0.9453 - val_loss: 1.5934 - val_acc: 0.7062\n",
            "Epoch 21/25\n",
            "50000/50000 [==============================] - 43s 857us/sample - loss: 0.1499 - acc: 0.9488 - val_loss: 1.6065 - val_acc: 0.7099\n",
            "Epoch 22/25\n",
            "50000/50000 [==============================] - 49s 970us/sample - loss: 0.1449 - acc: 0.9502 - val_loss: 1.5528 - val_acc: 0.7113\n",
            "Epoch 23/25\n",
            "50000/50000 [==============================] - 45s 895us/sample - loss: 0.1353 - acc: 0.9527 - val_loss: 1.6305 - val_acc: 0.7162\n",
            "Epoch 24/25\n",
            "50000/50000 [==============================] - 48s 968us/sample - loss: 0.1307 - acc: 0.9553 - val_loss: 1.6588 - val_acc: 0.7127\n",
            "Epoch 25/25\n",
            "50000/50000 [==============================] - 41s 814us/sample - loss: 0.1302 - acc: 0.9557 - val_loss: 1.6111 - val_acc: 0.7177\n"
          ],
          "name": "stdout"
        }
      ]
    },
    {
      "metadata": {
        "id": "QX7ssxakkc_E",
        "colab_type": "text"
      },
      "cell_type": "markdown",
      "source": [
        "As you can see above and below, the model overfits. The validation accuracy is nearly 25% lower than the training accuracy."
      ]
    },
    {
      "metadata": {
        "id": "IThBqEX3rhI3",
        "colab_type": "code",
        "outputId": "7c67e7de-aeba-4d00-86bc-8190c5934bbe",
        "colab": {
          "base_uri": "https://localhost:8080/",
          "height": 69
        }
      },
      "cell_type": "code",
      "source": [
        "scores = model.evaluate(testing_images, testing_labels, verbose=1)\n",
        "print(\"Test loss: \", scores[0])\n",
        "print(\"Test accuracy: \", scores[1])"
      ],
      "execution_count": 0,
      "outputs": [
        {
          "output_type": "stream",
          "text": [
            "10000/10000 [==============================] - 2s 228us/sample - loss: 1.6111 - acc: 0.7177\n",
            "Test loss:  1.6111393312454223\n",
            "Test accuracy:  0.7177\n"
          ],
          "name": "stdout"
        }
      ]
    }
  ]
}