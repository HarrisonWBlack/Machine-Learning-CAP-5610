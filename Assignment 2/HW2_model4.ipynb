{
  "nbformat": 4,
  "nbformat_minor": 0,
  "metadata": {
    "colab": {
      "name": "HW2_model4.ipynb",
      "version": "0.3.2",
      "provenance": [],
      "collapsed_sections": [],
      "include_colab_link": true
    },
    "kernelspec": {
      "name": "python3",
      "display_name": "Python 3"
    },
    "accelerator": "GPU"
  },
  "cells": [
    {
      "cell_type": "markdown",
      "metadata": {
        "id": "view-in-github",
        "colab_type": "text"
      },
      "source": [
        "<a href=\"https://colab.research.google.com/github/HarrisonWBlack/Machine-Learning-CAP-5610/blob/master/Assignment%202/HW2_model4.ipynb\" target=\"_parent\"><img src=\"https://colab.research.google.com/assets/colab-badge.svg\" alt=\"Open In Colab\"/></a>"
      ]
    },
    {
      "metadata": {
        "id": "pG-i2nSe0SN0",
        "colab_type": "text"
      },
      "cell_type": "markdown",
      "source": [
        "**Five layer, no dropout, no batch normalization or data augmetnation at 25 epochs**"
      ]
    },
    {
      "metadata": {
        "id": "PW9HYv5yfm_Q",
        "colab_type": "code",
        "colab": {}
      },
      "cell_type": "code",
      "source": [
        "import matplotlib.pyplot as plt\n",
        "import keras\n",
        "import numpy as np\n",
        "from tensorflow.keras.datasets import cifar10\n",
        "from tensorflow.keras.layers import Activation, Conv2D, Dense, Dropout, Flatten, MaxPooling2D\n",
        "from tensorflow.keras.preprocessing.image import ImageDataGenerator\n",
        "from tensorflow.keras.utils import to_categorical\n",
        "from tensorflow.keras.models import Sequential\n",
        "\n",
        "(training_images, training_labels), (testing_images, testing_labels) = cifar10.load_data()\n",
        "batch_size = 256\n",
        "epochs = 25\n",
        "augment_data = False\n",
        "\n",
        "training_labels = keras.utils.to_categorical(training_labels)\n",
        "testing_labels = keras.utils.to_categorical(testing_labels)\n"
      ],
      "execution_count": 0,
      "outputs": []
    },
    {
      "metadata": {
        "id": "10QKnrDMja54",
        "colab_type": "code",
        "colab": {}
      },
      "cell_type": "code",
      "source": [
        "dropout_rate = 0.2\n",
        "model = Sequential()\n",
        "model.add(Conv2D(32, (3, 3), activation='relu', input_shape=training_images.shape[1:]))\n",
        "model.add(MaxPooling2D((2,2)))\n",
        "model.add(Dropout(dropout_rate))\n",
        "\n",
        "model.add(Conv2D(64, (3, 3), activation='relu'))\n",
        "model.add(MaxPooling2D(pool_size=(2,2)))\n",
        "model.add(Dropout(dropout_rate))\n",
        "\n",
        "model.add(Conv2D(128, kernel_size=(3, 3), activation='relu'))\n",
        "model.add(Dropout(dropout_rate))\n",
        "\n",
        "model.add(Flatten())\n",
        "\n",
        "model.add(Dense(128, activation='relu'))\n",
        "model.add(Dense(10, activation='softmax'))\n"
      ],
      "execution_count": 0,
      "outputs": []
    },
    {
      "metadata": {
        "id": "vN_SUvYllw2e",
        "colab_type": "code",
        "outputId": "defa0d04-de5a-4252-92f2-4ed09fddabf1",
        "colab": {
          "base_uri": "https://localhost:8080/",
          "height": 903
        }
      },
      "cell_type": "code",
      "source": [
        "model.compile(loss=\"categorical_crossentropy\",\n",
        "             optimizer=\"Adam\",\n",
        "             metrics=[\"accuracy\"])\n",
        "\n",
        "training_images = training_images.astype(\"float32\") / 255\n",
        "testing_images = testing_images.astype(\"float32\") / 255\n",
        "\n",
        "if not augment_data:\n",
        "  model.fit(training_images, training_labels,\n",
        "           batch_size=batch_size,\n",
        "           epochs=epochs,\n",
        "           validation_data=(testing_images, testing_labels),\n",
        "           shuffle=True)\n",
        "  \n",
        "else:\n",
        "  datagen = ImageDataGenerator(\n",
        "    featurewise_center=False,\n",
        "    samplewise_center=False,\n",
        "    featurewise_std_normalization=False,\n",
        "    samplewise_std_normalization=False,\n",
        "    zca_whitening=False,\n",
        "    zca_epsilon=1e-06,\n",
        "    rotation_range=0,\n",
        "    width_shift_range=0.1,\n",
        "    height_shift_range=0.1,\n",
        "    shear_range=0.,\n",
        "    zoom_range=0.,\n",
        "    channel_shift_range=0.,\n",
        "    fill_mode=\"nearest\",\n",
        "    cval=0.,\n",
        "    horizontal_flip=True,\n",
        "    vertical_flip=False,\n",
        "    rescale=None,\n",
        "    preprocessing_function=None,\n",
        "    data_format=None,\n",
        "    validation_split=0.0)\n",
        "  \n",
        "  datagen.fit(training_images)\n",
        "  model.fit_generator(datagen.flow(training_images, training_labels,\n",
        "                                  batch_size=batch_size),\n",
        "                     epochs=epochs,\n",
        "                     validation_data=(testing_images, testing_labels),\n",
        "                     workers=1)\n",
        "  "
      ],
      "execution_count": 0,
      "outputs": [
        {
          "output_type": "stream",
          "text": [
            "Train on 50000 samples, validate on 10000 samples\n",
            "Epoch 1/25\n",
            "50000/50000 [==============================] - 49s 982us/sample - loss: 1.5238 - acc: 0.4429 - val_loss: 1.1899 - val_acc: 0.5773\n",
            "Epoch 2/25\n",
            "50000/50000 [==============================] - 47s 936us/sample - loss: 1.1714 - acc: 0.5827 - val_loss: 1.0275 - val_acc: 0.6393\n",
            "Epoch 3/25\n",
            "50000/50000 [==============================] - 43s 864us/sample - loss: 1.0257 - acc: 0.6389 - val_loss: 0.9676 - val_acc: 0.6608\n",
            "Epoch 4/25\n",
            "50000/50000 [==============================] - 47s 931us/sample - loss: 0.9286 - acc: 0.6725 - val_loss: 0.9038 - val_acc: 0.6849\n",
            "Epoch 5/25\n",
            "50000/50000 [==============================] - 43s 856us/sample - loss: 0.8656 - acc: 0.6944 - val_loss: 0.8369 - val_acc: 0.7099\n",
            "Epoch 6/25\n",
            "50000/50000 [==============================] - 44s 888us/sample - loss: 0.8125 - acc: 0.7146 - val_loss: 0.8086 - val_acc: 0.7181\n",
            "Epoch 7/25\n",
            "50000/50000 [==============================] - 49s 981us/sample - loss: 0.7707 - acc: 0.7294 - val_loss: 0.7793 - val_acc: 0.7341\n",
            "Epoch 8/25\n",
            "50000/50000 [==============================] - 49s 973us/sample - loss: 0.7313 - acc: 0.7444 - val_loss: 0.8413 - val_acc: 0.7076\n",
            "Epoch 9/25\n",
            "50000/50000 [==============================] - 48s 952us/sample - loss: 0.7014 - acc: 0.7527 - val_loss: 0.7714 - val_acc: 0.7345\n",
            "Epoch 10/25\n",
            "50000/50000 [==============================] - 45s 897us/sample - loss: 0.6752 - acc: 0.7609 - val_loss: 0.7668 - val_acc: 0.7367\n",
            "Epoch 11/25\n",
            "50000/50000 [==============================] - 47s 932us/sample - loss: 0.6497 - acc: 0.7702 - val_loss: 0.7934 - val_acc: 0.7313\n",
            "Epoch 12/25\n",
            "50000/50000 [==============================] - 45s 892us/sample - loss: 0.6241 - acc: 0.7784 - val_loss: 0.7574 - val_acc: 0.7454\n",
            "Epoch 13/25\n",
            "50000/50000 [==============================] - 44s 885us/sample - loss: 0.6131 - acc: 0.7855 - val_loss: 0.8003 - val_acc: 0.7285\n",
            "Epoch 14/25\n",
            "50000/50000 [==============================] - 44s 874us/sample - loss: 0.5903 - acc: 0.7915 - val_loss: 0.7785 - val_acc: 0.7417\n",
            "Epoch 15/25\n",
            "50000/50000 [==============================] - 50s 997us/sample - loss: 0.5673 - acc: 0.7999 - val_loss: 0.7789 - val_acc: 0.7432\n",
            "Epoch 16/25\n",
            "50000/50000 [==============================] - 48s 969us/sample - loss: 0.5545 - acc: 0.8011 - val_loss: 0.7611 - val_acc: 0.7512\n",
            "Epoch 17/25\n",
            "50000/50000 [==============================] - 49s 983us/sample - loss: 0.5405 - acc: 0.8062 - val_loss: 0.7596 - val_acc: 0.7512\n",
            "Epoch 18/25\n",
            "50000/50000 [==============================] - 46s 916us/sample - loss: 0.5247 - acc: 0.8128 - val_loss: 0.8070 - val_acc: 0.7441\n",
            "Epoch 19/25\n",
            "50000/50000 [==============================] - 43s 864us/sample - loss: 0.5138 - acc: 0.8166 - val_loss: 0.7953 - val_acc: 0.7412\n",
            "Epoch 20/25\n",
            "50000/50000 [==============================] - 46s 923us/sample - loss: 0.4989 - acc: 0.8216 - val_loss: 0.7980 - val_acc: 0.7464\n",
            "Epoch 21/25\n",
            "50000/50000 [==============================] - 45s 897us/sample - loss: 0.4916 - acc: 0.8258 - val_loss: 0.8440 - val_acc: 0.7422\n",
            "Epoch 22/25\n",
            "50000/50000 [==============================] - 48s 956us/sample - loss: 0.4855 - acc: 0.8268 - val_loss: 0.8133 - val_acc: 0.7404\n",
            "Epoch 23/25\n",
            "50000/50000 [==============================] - 45s 898us/sample - loss: 0.4795 - acc: 0.8304 - val_loss: 0.8293 - val_acc: 0.7413\n",
            "Epoch 24/25\n",
            "50000/50000 [==============================] - 45s 898us/sample - loss: 0.4655 - acc: 0.8360 - val_loss: 0.8080 - val_acc: 0.7477\n",
            "Epoch 25/25\n",
            "50000/50000 [==============================] - 45s 897us/sample - loss: 0.4596 - acc: 0.8365 - val_loss: 0.8640 - val_acc: 0.7352\n"
          ],
          "name": "stdout"
        }
      ]
    },
    {
      "metadata": {
        "id": "P-jOl1XZqtt9",
        "colab_type": "text"
      },
      "cell_type": "markdown",
      "source": [
        "Somewhat overfit. Also not very accurate."
      ]
    },
    {
      "metadata": {
        "id": "IThBqEX3rhI3",
        "colab_type": "code",
        "outputId": "fbe52b0d-c251-4b7d-a5e1-85a1683824c4",
        "colab": {
          "base_uri": "https://localhost:8080/",
          "height": 69
        }
      },
      "cell_type": "code",
      "source": [
        "scores = model.evaluate(testing_images, testing_labels, verbose=1)\n",
        "print(\"Test loss: \", scores[0])\n",
        "print(\"Test accuracy: \", scores[1])"
      ],
      "execution_count": 0,
      "outputs": [
        {
          "output_type": "stream",
          "text": [
            "10000/10000 [==============================] - 3s 288us/sample - loss: 0.8640 - acc: 0.7352\n",
            "Test loss:  0.8640254371643067\n",
            "Test accuracy:  0.7352\n"
          ],
          "name": "stdout"
        }
      ]
    }
  ]
}